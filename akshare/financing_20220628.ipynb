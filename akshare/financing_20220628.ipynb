{
 "cells": [
  {
   "cell_type": "code",
   "execution_count": 89,
   "metadata": {},
   "outputs": [],
   "source": [
    "import akshare as ak\n",
    "import pandas as pd\n",
    "import datetime\n",
    "import warnings\n",
    "warnings.filterwarnings('ignore')"
   ]
  },
  {
   "cell_type": "code",
   "execution_count": 90,
   "metadata": {},
   "outputs": [],
   "source": [
    "n_days_before = 200\n",
    "today = datetime.date.today()\n",
    "d = datetime.date.today() - datetime.timedelta(days=n_days_before)\n",
    "one = datetime.timedelta(days=1)"
   ]
  },
  {
   "cell_type": "code",
   "execution_count": 91,
   "metadata": {},
   "outputs": [
    {
     "name": "stdout",
     "output_type": "stream",
     "text": [
      "     信用交易日期          融资余额        融资买入额        融券余量       融券余量金额      融券卖出量  \\\n",
      "0  20220627  804152526967  51884714653  7395969503  59791030542  499412140   \n",
      "1  20220624  799101774063  46175566005  7331298421  59505969329  486506974   \n",
      "2  20220623  799470136679  43485869406  7303722166  58406024132  593666045   \n",
      "3  20220622  799032181409  39381731122  7202903031  56795824636  533081862   \n",
      "4  20220621  796791144096  40973948034  7081932430  56654901493  546112960   \n",
      "\n",
      "         融资融券余额  \n",
      "0  863943557509  \n",
      "1  858607743392  \n",
      "2  857876160811  \n",
      "3  855828006045  \n",
      "4  853446045589  \n"
     ]
    }
   ],
   "source": [
    "sse_df = ak.stock_margin_sse(start_date=d.strftime(\"%Y%m%d\"), end_date=today.strftime(\"%Y%m%d\"))\n",
    "print(sse_df.head())"
   ]
  },
  {
   "cell_type": "code",
   "execution_count": 92,
   "metadata": {},
   "outputs": [
    {
     "data": {
      "text/plain": [
       "(130, 7)"
      ]
     },
     "execution_count": 92,
     "metadata": {},
     "output_type": "execute_result"
    }
   ],
   "source": [
    "sse_df.shape"
   ]
  },
  {
   "cell_type": "code",
   "execution_count": 93,
   "metadata": {},
   "outputs": [
    {
     "data": {
      "text/plain": [
       "'20220627'"
      ]
     },
     "execution_count": 93,
     "metadata": {},
     "output_type": "execute_result"
    }
   ],
   "source": [
    "sse_df.iloc[0][0]"
   ]
  },
  {
   "cell_type": "code",
   "execution_count": 94,
   "metadata": {},
   "outputs": [
    {
     "name": "stdout",
     "output_type": "stream",
     "text": [
      "     融资买入额     融资余额  融券卖出量   融券余量    融券余额   融资融券余额\n",
      "0   492.42  6919.61   1.56  21.64  332.80  7252.42\n",
      "0   409.73  6877.47   1.80  21.81  332.83  7210.30\n",
      "0   387.38  6885.54   2.23  22.05  331.39  7216.93\n",
      "0   342.71  6860.21   2.35  21.73  311.71  7171.92\n",
      "0   371.00  6841.36   2.45  21.01  302.20  7143.57\n",
      "..     ...      ...    ...    ...     ...      ...\n",
      "0   430.62  8163.02   1.20  21.42  407.14  8570.17\n",
      "0   414.53  8155.48   1.15  21.13  402.01  8557.50\n",
      "0   414.50  8156.25   0.67  20.84  404.08  8560.34\n",
      "0   477.05  8150.26   0.69  21.05  406.82  8557.09\n",
      "0   412.73  8139.46   0.60  21.13  406.85  8546.31\n",
      "\n",
      "[130 rows x 6 columns]\n"
     ]
    }
   ],
   "source": [
    "szse_df = ak.stock_margin_szse(date=sse_df.iloc[0][0])\n",
    "for i in range(1, sse_df.shape[0]):\n",
    "    szse_df = pd.concat([szse_df, ak.stock_margin_szse(date=sse_df.iloc[i][0])])\n",
    "print(szse_df)"
   ]
  },
  {
   "cell_type": "code",
   "execution_count": 95,
   "metadata": {},
   "outputs": [
    {
     "name": "stdout",
     "output_type": "stream",
     "text": [
      "       信用交易日期          融资余额\n",
      "0    20220627  804152526967\n",
      "1    20220624  799101774063\n",
      "2    20220623  799470136679\n",
      "3    20220622  799032181409\n",
      "4    20220621  796791144096\n",
      "..        ...           ...\n",
      "125  20211216  916542583380\n",
      "126  20211215  917286307636\n",
      "127  20211214  915338431382\n",
      "128  20211213  913950078858\n",
      "129  20211210  910033221248\n",
      "\n",
      "[130 rows x 2 columns]\n"
     ]
    }
   ],
   "source": [
    "d1 = sse_df[[\"信用交易日期\", \"融资余额\"]]\n",
    "print(d1)"
   ]
  },
  {
   "cell_type": "code",
   "execution_count": 96,
   "metadata": {},
   "outputs": [
    {
     "name": "stdout",
     "output_type": "stream",
     "text": [
      "       信用交易日期         融资余额\n",
      "0    20220627  8041.525270\n",
      "1    20220624  7991.017741\n",
      "2    20220623  7994.701367\n",
      "3    20220622  7990.321814\n",
      "4    20220621  7967.911441\n",
      "..        ...          ...\n",
      "125  20211216  9165.425834\n",
      "126  20211215  9172.863076\n",
      "127  20211214  9153.384314\n",
      "128  20211213  9139.500789\n",
      "129  20211210  9100.332212\n",
      "\n",
      "[130 rows x 2 columns]\n"
     ]
    }
   ],
   "source": [
    "d1[\"融资余额\"] = d1[\"融资余额\"].map(lambda x: x / 1e8)\n",
    "print(d1)"
   ]
  },
  {
   "cell_type": "code",
   "execution_count": 97,
   "metadata": {},
   "outputs": [
    {
     "name": "stdout",
     "output_type": "stream",
     "text": [
      "0      6919.61\n",
      "1      6877.47\n",
      "2      6885.54\n",
      "3      6860.21\n",
      "4      6841.36\n",
      "        ...   \n",
      "125    8163.02\n",
      "126    8155.48\n",
      "127    8156.25\n",
      "128    8150.26\n",
      "129    8139.46\n",
      "Name: 融资余额, Length: 130, dtype: float64\n"
     ]
    }
   ],
   "source": [
    "d2 = szse_df[\"融资余额\"].reset_index(drop=True)\n",
    "print(d2)"
   ]
  },
  {
   "cell_type": "code",
   "execution_count": 98,
   "metadata": {},
   "outputs": [],
   "source": [
    "out = pd.concat([d1,d2],axis=1)"
   ]
  },
  {
   "cell_type": "code",
   "execution_count": 99,
   "metadata": {},
   "outputs": [],
   "source": [
    "out.sort_index(ascending=False,inplace=True)"
   ]
  },
  {
   "cell_type": "code",
   "execution_count": 100,
   "metadata": {},
   "outputs": [
    {
     "data": {
      "text/html": [
       "<div>\n",
       "<style scoped>\n",
       "    .dataframe tbody tr th:only-of-type {\n",
       "        vertical-align: middle;\n",
       "    }\n",
       "\n",
       "    .dataframe tbody tr th {\n",
       "        vertical-align: top;\n",
       "    }\n",
       "\n",
       "    .dataframe thead th {\n",
       "        text-align: right;\n",
       "    }\n",
       "</style>\n",
       "<table border=\"1\" class=\"dataframe\">\n",
       "  <thead>\n",
       "    <tr style=\"text-align: right;\">\n",
       "      <th></th>\n",
       "      <th>信用交易日期</th>\n",
       "      <th>融资余额</th>\n",
       "      <th>融资余额</th>\n",
       "    </tr>\n",
       "  </thead>\n",
       "  <tbody>\n",
       "    <tr>\n",
       "      <th>129</th>\n",
       "      <td>20211210</td>\n",
       "      <td>9100.332212</td>\n",
       "      <td>8139.46</td>\n",
       "    </tr>\n",
       "    <tr>\n",
       "      <th>128</th>\n",
       "      <td>20211213</td>\n",
       "      <td>9139.500789</td>\n",
       "      <td>8150.26</td>\n",
       "    </tr>\n",
       "    <tr>\n",
       "      <th>127</th>\n",
       "      <td>20211214</td>\n",
       "      <td>9153.384314</td>\n",
       "      <td>8156.25</td>\n",
       "    </tr>\n",
       "    <tr>\n",
       "      <th>126</th>\n",
       "      <td>20211215</td>\n",
       "      <td>9172.863076</td>\n",
       "      <td>8155.48</td>\n",
       "    </tr>\n",
       "    <tr>\n",
       "      <th>125</th>\n",
       "      <td>20211216</td>\n",
       "      <td>9165.425834</td>\n",
       "      <td>8163.02</td>\n",
       "    </tr>\n",
       "    <tr>\n",
       "      <th>...</th>\n",
       "      <td>...</td>\n",
       "      <td>...</td>\n",
       "      <td>...</td>\n",
       "    </tr>\n",
       "    <tr>\n",
       "      <th>4</th>\n",
       "      <td>20220621</td>\n",
       "      <td>7967.911441</td>\n",
       "      <td>6841.36</td>\n",
       "    </tr>\n",
       "    <tr>\n",
       "      <th>3</th>\n",
       "      <td>20220622</td>\n",
       "      <td>7990.321814</td>\n",
       "      <td>6860.21</td>\n",
       "    </tr>\n",
       "    <tr>\n",
       "      <th>2</th>\n",
       "      <td>20220623</td>\n",
       "      <td>7994.701367</td>\n",
       "      <td>6885.54</td>\n",
       "    </tr>\n",
       "    <tr>\n",
       "      <th>1</th>\n",
       "      <td>20220624</td>\n",
       "      <td>7991.017741</td>\n",
       "      <td>6877.47</td>\n",
       "    </tr>\n",
       "    <tr>\n",
       "      <th>0</th>\n",
       "      <td>20220627</td>\n",
       "      <td>8041.525270</td>\n",
       "      <td>6919.61</td>\n",
       "    </tr>\n",
       "  </tbody>\n",
       "</table>\n",
       "<p>130 rows × 3 columns</p>\n",
       "</div>"
      ],
      "text/plain": [
       "       信用交易日期         融资余额     融资余额\n",
       "129  20211210  9100.332212  8139.46\n",
       "128  20211213  9139.500789  8150.26\n",
       "127  20211214  9153.384314  8156.25\n",
       "126  20211215  9172.863076  8155.48\n",
       "125  20211216  9165.425834  8163.02\n",
       "..        ...          ...      ...\n",
       "4    20220621  7967.911441  6841.36\n",
       "3    20220622  7990.321814  6860.21\n",
       "2    20220623  7994.701367  6885.54\n",
       "1    20220624  7991.017741  6877.47\n",
       "0    20220627  8041.525270  6919.61\n",
       "\n",
       "[130 rows x 3 columns]"
      ]
     },
     "execution_count": 100,
     "metadata": {},
     "output_type": "execute_result"
    }
   ],
   "source": [
    "out"
   ]
  },
  {
   "cell_type": "code",
   "execution_count": 102,
   "metadata": {},
   "outputs": [],
   "source": [
    "out.to_excel('融资余额20220628.xlsx')"
   ]
  }
 ],
 "metadata": {
  "kernelspec": {
   "display_name": "Python 3.10.5 64-bit",
   "language": "python",
   "name": "python3"
  },
  "language_info": {
   "codemirror_mode": {
    "name": "ipython",
    "version": 3
   },
   "file_extension": ".py",
   "mimetype": "text/x-python",
   "name": "python",
   "nbconvert_exporter": "python",
   "pygments_lexer": "ipython3",
   "version": "3.10.5"
  },
  "orig_nbformat": 4,
  "vscode": {
   "interpreter": {
    "hash": "8036d4a22df4b328cea8d74886d17ef6db88ef52894febe8f911a56168059992"
   }
  }
 },
 "nbformat": 4,
 "nbformat_minor": 2
}
