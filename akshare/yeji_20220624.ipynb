{
 "cells": [
  {
   "cell_type": "code",
   "execution_count": 18,
   "metadata": {},
   "outputs": [
    {
     "name": "stderr",
     "output_type": "stream",
     "text": [
      "                                             \r"
     ]
    }
   ],
   "source": [
    "import akshare as ak\n",
    "stock_yjbb_em_df = ak.stock_yjbb_em(date=\"20150331\")"
   ]
  },
  {
   "cell_type": "code",
   "execution_count": 19,
   "metadata": {},
   "outputs": [
    {
     "data": {
      "text/plain": [
       "(3285, 16)"
      ]
     },
     "execution_count": 19,
     "metadata": {},
     "output_type": "execute_result"
    }
   ],
   "source": [
    "stock_yjbb_em_df.shape"
   ]
  },
  {
   "cell_type": "code",
   "execution_count": 20,
   "metadata": {},
   "outputs": [
    {
     "data": {
      "text/html": [
       "<div>\n",
       "<style scoped>\n",
       "    .dataframe tbody tr th:only-of-type {\n",
       "        vertical-align: middle;\n",
       "    }\n",
       "\n",
       "    .dataframe tbody tr th {\n",
       "        vertical-align: top;\n",
       "    }\n",
       "\n",
       "    .dataframe thead th {\n",
       "        text-align: right;\n",
       "    }\n",
       "</style>\n",
       "<table border=\"1\" class=\"dataframe\">\n",
       "  <thead>\n",
       "    <tr style=\"text-align: right;\">\n",
       "      <th></th>\n",
       "      <th>序号</th>\n",
       "      <th>股票代码</th>\n",
       "      <th>股票简称</th>\n",
       "      <th>每股收益</th>\n",
       "      <th>营业收入-营业收入</th>\n",
       "      <th>营业收入-同比增长</th>\n",
       "      <th>营业收入-季度环比增长</th>\n",
       "      <th>净利润-净利润</th>\n",
       "      <th>净利润-同比增长</th>\n",
       "      <th>净利润-季度环比增长</th>\n",
       "      <th>每股净资产</th>\n",
       "      <th>净资产收益率</th>\n",
       "      <th>每股经营现金流量</th>\n",
       "      <th>销售毛利率</th>\n",
       "      <th>所处行业</th>\n",
       "      <th>最新公告日期</th>\n",
       "    </tr>\n",
       "  </thead>\n",
       "  <tbody>\n",
       "    <tr>\n",
       "      <th>997</th>\n",
       "      <td>998</td>\n",
       "      <td>000776</td>\n",
       "      <td>广发证券</td>\n",
       "      <td>0.43</td>\n",
       "      <td>5.712023e+09</td>\n",
       "      <td>131.755657</td>\n",
       "      <td>8.229</td>\n",
       "      <td>2.517293e+09</td>\n",
       "      <td>204.669405</td>\n",
       "      <td>27.0111</td>\n",
       "      <td>7.075024</td>\n",
       "      <td>6.09</td>\n",
       "      <td>1.169132</td>\n",
       "      <td>NaN</td>\n",
       "      <td>证券</td>\n",
       "      <td>2016-04-29 00:00:00</td>\n",
       "    </tr>\n",
       "  </tbody>\n",
       "</table>\n",
       "</div>"
      ],
      "text/plain": [
       "      序号    股票代码  股票简称  每股收益     营业收入-营业收入   营业收入-同比增长  营业收入-季度环比增长  \\\n",
       "997  998  000776  广发证券  0.43  5.712023e+09  131.755657        8.229   \n",
       "\n",
       "          净利润-净利润    净利润-同比增长  净利润-季度环比增长     每股净资产  净资产收益率  每股经营现金流量  销售毛利率  \\\n",
       "997  2.517293e+09  204.669405     27.0111  7.075024    6.09  1.169132    NaN   \n",
       "\n",
       "    所处行业               最新公告日期  \n",
       "997   证券  2016-04-29 00:00:00  "
      ]
     },
     "execution_count": 20,
     "metadata": {},
     "output_type": "execute_result"
    }
   ],
   "source": [
    "stock_yjbb_em_df.loc[stock_yjbb_em_df[\"股票代码\"]==\"000776\"]"
   ]
  }
 ],
 "metadata": {
  "kernelspec": {
   "display_name": "Python 3.10.5 64-bit",
   "language": "python",
   "name": "python3"
  },
  "language_info": {
   "codemirror_mode": {
    "name": "ipython",
    "version": 3
   },
   "file_extension": ".py",
   "mimetype": "text/x-python",
   "name": "python",
   "nbconvert_exporter": "python",
   "pygments_lexer": "ipython3",
   "version": "3.10.5"
  },
  "orig_nbformat": 4,
  "vscode": {
   "interpreter": {
    "hash": "8036d4a22df4b328cea8d74886d17ef6db88ef52894febe8f911a56168059992"
   }
  }
 },
 "nbformat": 4,
 "nbformat_minor": 2
}
