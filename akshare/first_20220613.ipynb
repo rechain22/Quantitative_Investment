{
 "cells": [
  {
   "cell_type": "code",
   "execution_count": 1,
   "metadata": {},
   "outputs": [
    {
     "name": "stdout",
     "output_type": "stream",
     "text": [
      "       信用交易日期          融资余额        融资买入额        融券余量       融券余量金额      融券卖出量  \\\n",
      "0    20220616  795756728177  46332368237  6829715717  54303015634  513905855   \n",
      "1    20220615  793609922510  60233212499  6806672978  53630674633  536441330   \n",
      "2    20220614  790607292252  46309952318  6746225243  53645550512  516131314   \n",
      "3    20220613  788358540702  46456817098  6719466010  52968807177  358946148   \n",
      "4    20220610  782256232225  40644204686  6804798344  53407136031  433434045   \n",
      "..        ...           ...          ...         ...          ...        ...   \n",
      "320  20210219  802437603320  54940481670  7207830734  89502507162  232925268   \n",
      "321  20210218  798674299752  57592470219  7227617856  88984489407  203012743   \n",
      "322  20210210  787516930548  39732264789  7154213412  87009856851  162455427   \n",
      "323  20210209  796972031083  40412055719  7320527938  88627326311  187447390   \n",
      "324  20210208  796355371775  33386752258  7346080807  87718590706  148374362   \n",
      "\n",
      "           融资融券余额  \n",
      "0    850059743811  \n",
      "1    847240597143  \n",
      "2    844252842764  \n",
      "3    841327347879  \n",
      "4    835663368256  \n",
      "..            ...  \n",
      "320  891940110482  \n",
      "321  887658789159  \n",
      "322  874526787399  \n",
      "323  885599357394  \n",
      "324  884073962481  \n",
      "\n",
      "[325 rows x 7 columns]\n"
     ]
    }
   ],
   "source": [
    "import akshare as ak\n",
    "stock_margin_sse_df = ak.stock_margin_sse(start_date=\"20210208\", end_date=\"20220616\")\n",
    "print(stock_margin_sse_df)"
   ]
  },
  {
   "cell_type": "code",
   "execution_count": 2,
   "metadata": {},
   "outputs": [
    {
     "name": "stdout",
     "output_type": "stream",
     "text": [
      "279.82\n"
     ]
    }
   ],
   "source": [
    "stock_margin_szse_df = ak.stock_margin_szse(date='20220617')\n",
    "margin_szse = stock_margin_szse_df[\"融券余额\"].iloc[0]\n",
    "print(margin_szse)"
   ]
  },
  {
   "cell_type": "code",
   "execution_count": 3,
   "metadata": {},
   "outputs": [
    {
     "ename": "AttributeError",
     "evalue": "'numpy.float64' object has no attribute 'iloc'",
     "output_type": "error",
     "traceback": [
      "\u001b[1;31m---------------------------------------------------------------------------\u001b[0m",
      "\u001b[1;31mAttributeError\u001b[0m                            Traceback (most recent call last)",
      "\u001b[1;32m~\\AppData\\Local\\Temp\\ipykernel_7968\\750931525.py\u001b[0m in \u001b[0;36m<cell line: 1>\u001b[1;34m()\u001b[0m\n\u001b[1;32m----> 1\u001b[1;33m \u001b[0mprint\u001b[0m\u001b[1;33m(\u001b[0m\u001b[0mmargin_szse\u001b[0m\u001b[1;33m.\u001b[0m\u001b[0miloc\u001b[0m\u001b[1;33m[\u001b[0m\u001b[1;36m0\u001b[0m\u001b[1;33m]\u001b[0m\u001b[1;33m)\u001b[0m\u001b[1;33m\u001b[0m\u001b[1;33m\u001b[0m\u001b[0m\n\u001b[0m",
      "\u001b[1;31mAttributeError\u001b[0m: 'numpy.float64' object has no attribute 'iloc'"
     ]
    }
   ],
   "source": [
    "print(margin_szse.iloc[0])"
   ]
  },
  {
   "cell_type": "code",
   "execution_count": null,
   "metadata": {},
   "outputs": [],
   "source": [
    "stock_sse_summary_df = ak.stock_sse_summary()\n",
    "stock_szse_summary_df = ak.stock_szse_summary(date='20220617')\n",
    "\n",
    "num_sse = int(stock_sse_summary_df[\"股票\"].iloc[4])\n",
    "value_sse = float(stock_sse_summary_df[\"股票\"].iloc[1])\n",
    "num_szse = stock_szse_summary_df[\"数量\"].iloc[0]\n",
    "value_szse = stock_szse_summary_df[\"总市值\"].iloc[0]"
   ]
  },
  {
   "cell_type": "code",
   "execution_count": null,
   "metadata": {},
   "outputs": [],
   "source": [
    "import numpy as np"
   ]
  },
  {
   "cell_type": "code",
   "execution_count": null,
   "metadata": {},
   "outputs": [],
   "source": [
    "import pandas as pd\n",
    "index = pd.date_range('2020-1-10',periods=8)"
   ]
  },
  {
   "cell_type": "code",
   "execution_count": null,
   "metadata": {},
   "outputs": [
    {
     "name": "stdout",
     "output_type": "stream",
     "text": [
      "            date  addTtmPe  middleAddTtmPe  addLyrPe  middleAddLyrPe  addPb  \\\n",
      "0     2005-04-08     14.98           20.65     15.68           21.17   2.01   \n",
      "1     2005-04-11     15.12           20.65     15.76           21.40   2.03   \n",
      "2     2005-04-12     14.75           20.30     15.21           20.85   1.99   \n",
      "3     2005-04-13     15.12           20.78     15.59           21.45   2.04   \n",
      "4     2005-04-14     14.99           20.56     15.42           21.14   2.02   \n",
      "...          ...       ...             ...       ...             ...    ...   \n",
      "4174  2022-06-13     10.96           20.10     11.20           20.68   1.33   \n",
      "4175  2022-06-14     11.09           20.56     11.34           21.36   1.35   \n",
      "4176  2022-06-15     11.23           21.24     11.48           21.58   1.37   \n",
      "4177  2022-06-16     11.12           21.04     11.36           21.30   1.35   \n",
      "4178  2022-06-17     11.22           21.22     11.47           21.60   1.37   \n",
      "\n",
      "      averageTtmPe  averageLyr  averagePb  middleAveragePb    close  \n",
      "0            30.39       33.19       2.12             1.92  1003.45  \n",
      "1            29.77       33.43       2.14             1.95   995.42  \n",
      "2            29.03       32.45       2.09             1.88   978.70  \n",
      "3            29.53       32.99       2.15             1.95  1000.90  \n",
      "4            28.95       32.23       2.11             1.93   986.98  \n",
      "...            ...         ...        ...              ...      ...  \n",
      "4174         31.60       30.60       4.02             2.55  4189.35  \n",
      "4175         31.73       30.76       4.04             2.54  4222.31  \n",
      "4176         32.02       31.00       4.09             2.56  4278.22  \n",
      "4177         32.02       31.05       4.20             2.59  4250.06  \n",
      "4178         32.40       31.40       4.26             2.58  4309.04  \n",
      "\n",
      "[4179 rows x 11 columns]\n"
     ]
    }
   ],
   "source": [
    "import akshare as ak\n",
    "\n",
    "stock_a_pe_and_pb_df = ak.stock_a_pe_and_pb(symbol=\"000300.SH\")\n",
    "print(stock_a_pe_and_pb_df)"
   ]
  },
  {
   "cell_type": "code",
   "execution_count": null,
   "metadata": {},
   "outputs": [
    {
     "name": "stdout",
     "output_type": "stream",
     "text": [
      "date               2022-04-26\n",
      "addTtmPe                10.15\n",
      "middleAddTtmPe          18.41\n",
      "addLyrPe                 10.3\n",
      "middleAddLyrPe          17.88\n",
      "addPb                    1.26\n",
      "averageTtmPe            29.28\n",
      "averageLyr              28.52\n",
      "averagePb                3.34\n",
      "middleAveragePb          2.22\n",
      "close                 3784.12\n",
      "Name: 4144, dtype: object\n"
     ]
    }
   ],
   "source": [
    "end = stock_a_pe_and_pb_df.iloc[4144]\n",
    "print(end)"
   ]
  },
  {
   "cell_type": "code",
   "execution_count": null,
   "metadata": {},
   "outputs": [],
   "source": [
    "start = stock_a_pe_and_pb_df.iloc[2928]"
   ]
  },
  {
   "cell_type": "code",
   "execution_count": null,
   "metadata": {},
   "outputs": [
    {
     "data": {
      "text/plain": [
       "11.03"
      ]
     },
     "execution_count": 9,
     "metadata": {},
     "output_type": "execute_result"
    }
   ],
   "source": [
    "np.percentile(stock_a_pe_and_pb_df.iloc[2928:4144][\"addTtmPe\"],10)"
   ]
  },
  {
   "cell_type": "code",
   "execution_count": null,
   "metadata": {},
   "outputs": [
    {
     "data": {
      "text/plain": [
       "1216"
      ]
     },
     "execution_count": 10,
     "metadata": {},
     "output_type": "execute_result"
    }
   ],
   "source": [
    "4144-2928"
   ]
  },
  {
   "cell_type": "code",
   "execution_count": null,
   "metadata": {},
   "outputs": [],
   "source": [
    "arr = stock_a_pe_and_pb_df.iloc[4174-1215:4175]"
   ]
  },
  {
   "cell_type": "code",
   "execution_count": null,
   "metadata": {},
   "outputs": [
    {
     "data": {
      "text/plain": [
       "11.47"
      ]
     },
     "execution_count": 12,
     "metadata": {},
     "output_type": "execute_result"
    }
   ],
   "source": [
    "np.percentile(arr[\"addTtmPe\"], 20)"
   ]
  },
  {
   "cell_type": "code",
   "execution_count": null,
   "metadata": {},
   "outputs": [
    {
     "name": "stdout",
     "output_type": "stream",
     "text": [
      "        序号      代码    名称     最新价    涨跌幅    涨跌额        成交量           成交额  \\\n",
      "0        1  300731  科创新源   24.10  20.02   4.02    55527.0  1.335772e+08   \n",
      "1        2  300660  江苏雷利   28.42  20.02   4.74   165301.0  4.301797e+08   \n",
      "2        3  300763  锦浪科技  181.24  20.00  30.21    98474.0  1.698711e+09   \n",
      "3        4  300585  奥联电子   18.90  20.00   3.15   261995.0  4.613424e+08   \n",
      "4        5  300337  银邦股份   11.28  20.00   1.88  1340913.0  1.471305e+09   \n",
      "...    ...     ...   ...     ...    ...    ...        ...           ...   \n",
      "4995  4996  600123  兰花科创   15.95  -8.86  -1.55   842274.0  1.352118e+09   \n",
      "4996  4997  600256  广汇能源    9.36  -9.48  -0.98  2442497.0  2.307858e+09   \n",
      "4997  4998  601001  晋控煤业   15.69  -9.72  -1.69   543532.0  8.612615e+08   \n",
      "4998  4999  000968  蓝焰控股   10.61  -9.78  -1.15   587345.0  6.328735e+08   \n",
      "4999  5000  603023  威帝股份    4.36  -9.92  -0.48   368110.0  1.611385e+08   \n",
      "\n",
      "         振幅      最高  ...    量比    换手率  市盈率-动态    市净率           总市值  \\\n",
      "0      3.93   24.10  ...  1.82   4.70  -67.51   5.22  3.014628e+09   \n",
      "1     19.13   28.42  ...  4.39  13.17   26.57   2.72  7.370054e+09   \n",
      "2     13.40  181.24  ...  1.58   3.35  102.37  27.96  6.730717e+10   \n",
      "3     21.84   18.90  ...  3.53  16.37  392.56   4.61  3.234000e+09   \n",
      "4     12.87   11.28  ...  3.42  18.89   57.18   9.54  9.271258e+09   \n",
      "...     ...     ...  ...   ...    ...     ...    ...           ...   \n",
      "4995   5.89   16.78  ...  1.36   7.37    5.21   1.30  1.822128e+10   \n",
      "4996   5.51    9.90  ...  1.38   3.72    6.94   2.98  6.145547e+10   \n",
      "4997   6.67   16.80  ...  1.21   3.25    7.29   2.03  2.626035e+10   \n",
      "4998   7.40   11.45  ...  1.06   6.07    9.43   2.08  1.026520e+10   \n",
      "4999   3.10    4.51  ...  2.50   6.55  879.22   3.21  2.450668e+09   \n",
      "\n",
      "              流通市值    涨速  5分钟涨跌  60日涨跌幅  年初至今涨跌幅  \n",
      "0     2.845370e+09  0.00   0.00   13.84   -33.97  \n",
      "1     3.567043e+09  0.00   0.00   36.77    -1.49  \n",
      "2     5.326112e+10  0.00   0.00   20.34    17.41  \n",
      "3     3.024000e+09  0.00   0.00   28.57    34.42  \n",
      "4     8.008784e+09  0.00   0.00   75.70    42.07  \n",
      "...            ...   ...    ...     ...      ...  \n",
      "4995  1.822128e+10 -0.06  -0.25   35.06    70.22  \n",
      "4996  6.145547e+10  0.00   0.00   29.82    43.12  \n",
      "4997  2.626035e+10 -0.06  -0.06   10.26    63.27  \n",
      "4998  1.026520e+10  0.00   0.28   36.20    13.48  \n",
      "4999  2.450668e+09  0.00   0.00    5.31    -9.54  \n",
      "\n",
      "[5000 rows x 23 columns]\n"
     ]
    }
   ],
   "source": [
    "import akshare as ak\n",
    "stock_zh_a_spot_em_df = ak.stock_zh_a_spot_em()\n",
    "print(stock_zh_a_spot_em_df)"
   ]
  },
  {
   "cell_type": "code",
   "execution_count": null,
   "metadata": {},
   "outputs": [],
   "source": [
    "stock_zh_a_spot_em_df = stock_zh_a_spot_em_df.sort_values(by=\"涨跌幅\", ascending=False).dropna()"
   ]
  },
  {
   "cell_type": "code",
   "execution_count": null,
   "metadata": {},
   "outputs": [
    {
     "name": "stdout",
     "output_type": "stream",
     "text": [
      "4800\n"
     ]
    }
   ],
   "source": [
    "N = stock_zh_a_spot_em_df.shape[0]\n",
    "print(N)"
   ]
  },
  {
   "cell_type": "code",
   "execution_count": null,
   "metadata": {},
   "outputs": [],
   "source": []
  },
  {
   "cell_type": "code",
   "execution_count": null,
   "metadata": {},
   "outputs": [
    {
     "name": "stdout",
     "output_type": "stream",
     "text": [
      "   序号      代码    名称     最新价    涨跌幅    涨跌额        成交量           成交额     振幅  \\\n",
      "0   1  300731  科创新源   24.10  20.02   4.02    55527.0  1.335772e+08   3.93   \n",
      "1   2  300660  江苏雷利   28.42  20.02   4.74   165301.0  4.301797e+08  19.13   \n",
      "2   3  300763  锦浪科技  181.24  20.00  30.21    98474.0  1.698711e+09  13.40   \n",
      "4   5  300337  银邦股份   11.28  20.00   1.88  1340913.0  1.471305e+09  12.87   \n",
      "3   4  300585  奥联电子   18.90  20.00   3.15   261995.0  4.613424e+08  21.84   \n",
      "\n",
      "       最高  ...    量比    换手率  市盈率-动态    市净率           总市值          流通市值   涨速  \\\n",
      "0   24.10  ...  1.82   4.70  -67.51   5.22  3.014628e+09  2.845370e+09  0.0   \n",
      "1   28.42  ...  4.39  13.17   26.57   2.72  7.370054e+09  3.567043e+09  0.0   \n",
      "2  181.24  ...  1.58   3.35  102.37  27.96  6.730717e+10  5.326112e+10  0.0   \n",
      "4   11.28  ...  3.42  18.89   57.18   9.54  9.271258e+09  8.008784e+09  0.0   \n",
      "3   18.90  ...  3.53  16.37  392.56   4.61  3.234000e+09  3.024000e+09  0.0   \n",
      "\n",
      "   5分钟涨跌  60日涨跌幅  年初至今涨跌幅  \n",
      "0    0.0   13.84   -33.97  \n",
      "1    0.0   36.77    -1.49  \n",
      "2    0.0   20.34    17.41  \n",
      "4    0.0   75.70    42.07  \n",
      "3    0.0   28.57    34.42  \n",
      "\n",
      "[5 rows x 23 columns]\n"
     ]
    }
   ],
   "source": [
    "print(stock_zh_a_spot_em_df.sort_values(by=\"涨跌幅\",ascending=False).dropna().head())"
   ]
  },
  {
   "cell_type": "code",
   "execution_count": null,
   "metadata": {},
   "outputs": [
    {
     "data": {
      "text/html": [
       "<div>\n",
       "<style scoped>\n",
       "    .dataframe tbody tr th:only-of-type {\n",
       "        vertical-align: middle;\n",
       "    }\n",
       "\n",
       "    .dataframe tbody tr th {\n",
       "        vertical-align: top;\n",
       "    }\n",
       "\n",
       "    .dataframe thead th {\n",
       "        text-align: right;\n",
       "    }\n",
       "</style>\n",
       "<table border=\"1\" class=\"dataframe\">\n",
       "  <thead>\n",
       "    <tr style=\"text-align: right;\">\n",
       "      <th></th>\n",
       "      <th>序号</th>\n",
       "      <th>代码</th>\n",
       "      <th>名称</th>\n",
       "      <th>最新价</th>\n",
       "      <th>涨跌幅</th>\n",
       "      <th>涨跌额</th>\n",
       "      <th>成交量</th>\n",
       "      <th>成交额</th>\n",
       "      <th>振幅</th>\n",
       "      <th>最高</th>\n",
       "      <th>...</th>\n",
       "      <th>量比</th>\n",
       "      <th>换手率</th>\n",
       "      <th>市盈率-动态</th>\n",
       "      <th>市净率</th>\n",
       "      <th>总市值</th>\n",
       "      <th>流通市值</th>\n",
       "      <th>涨速</th>\n",
       "      <th>5分钟涨跌</th>\n",
       "      <th>60日涨跌幅</th>\n",
       "      <th>年初至今涨跌幅</th>\n",
       "    </tr>\n",
       "  </thead>\n",
       "  <tbody>\n",
       "    <tr>\n",
       "      <th>3312</th>\n",
       "      <td>3313</td>\n",
       "      <td>600752</td>\n",
       "      <td>*ST哈慈</td>\n",
       "      <td>NaN</td>\n",
       "      <td>NaN</td>\n",
       "      <td>NaN</td>\n",
       "      <td>NaN</td>\n",
       "      <td>NaN</td>\n",
       "      <td>NaN</td>\n",
       "      <td>NaN</td>\n",
       "      <td>...</td>\n",
       "      <td>NaN</td>\n",
       "      <td>NaN</td>\n",
       "      <td>NaN</td>\n",
       "      <td>NaN</td>\n",
       "      <td>NaN</td>\n",
       "      <td>NaN</td>\n",
       "      <td>NaN</td>\n",
       "      <td>NaN</td>\n",
       "      <td>0.0</td>\n",
       "      <td>0.0</td>\n",
       "    </tr>\n",
       "    <tr>\n",
       "      <th>3313</th>\n",
       "      <td>3314</td>\n",
       "      <td>600747</td>\n",
       "      <td>退市大控</td>\n",
       "      <td>NaN</td>\n",
       "      <td>NaN</td>\n",
       "      <td>NaN</td>\n",
       "      <td>NaN</td>\n",
       "      <td>NaN</td>\n",
       "      <td>NaN</td>\n",
       "      <td>NaN</td>\n",
       "      <td>...</td>\n",
       "      <td>NaN</td>\n",
       "      <td>NaN</td>\n",
       "      <td>NaN</td>\n",
       "      <td>NaN</td>\n",
       "      <td>NaN</td>\n",
       "      <td>NaN</td>\n",
       "      <td>NaN</td>\n",
       "      <td>NaN</td>\n",
       "      <td>0.0</td>\n",
       "      <td>0.0</td>\n",
       "    </tr>\n",
       "    <tr>\n",
       "      <th>3315</th>\n",
       "      <td>3316</td>\n",
       "      <td>600723</td>\n",
       "      <td>首商股份</td>\n",
       "      <td>NaN</td>\n",
       "      <td>NaN</td>\n",
       "      <td>NaN</td>\n",
       "      <td>NaN</td>\n",
       "      <td>NaN</td>\n",
       "      <td>NaN</td>\n",
       "      <td>NaN</td>\n",
       "      <td>...</td>\n",
       "      <td>NaN</td>\n",
       "      <td>NaN</td>\n",
       "      <td>NaN</td>\n",
       "      <td>NaN</td>\n",
       "      <td>NaN</td>\n",
       "      <td>NaN</td>\n",
       "      <td>NaN</td>\n",
       "      <td>NaN</td>\n",
       "      <td>0.0</td>\n",
       "      <td>0.0</td>\n",
       "    </tr>\n",
       "    <tr>\n",
       "      <th>3317</th>\n",
       "      <td>3318</td>\n",
       "      <td>600709</td>\n",
       "      <td>ST生态</td>\n",
       "      <td>NaN</td>\n",
       "      <td>NaN</td>\n",
       "      <td>NaN</td>\n",
       "      <td>NaN</td>\n",
       "      <td>NaN</td>\n",
       "      <td>NaN</td>\n",
       "      <td>NaN</td>\n",
       "      <td>...</td>\n",
       "      <td>NaN</td>\n",
       "      <td>NaN</td>\n",
       "      <td>NaN</td>\n",
       "      <td>NaN</td>\n",
       "      <td>NaN</td>\n",
       "      <td>NaN</td>\n",
       "      <td>NaN</td>\n",
       "      <td>NaN</td>\n",
       "      <td>0.0</td>\n",
       "      <td>0.0</td>\n",
       "    </tr>\n",
       "    <tr>\n",
       "      <th>3318</th>\n",
       "      <td>3319</td>\n",
       "      <td>600701</td>\n",
       "      <td>退市工新</td>\n",
       "      <td>NaN</td>\n",
       "      <td>NaN</td>\n",
       "      <td>NaN</td>\n",
       "      <td>NaN</td>\n",
       "      <td>NaN</td>\n",
       "      <td>NaN</td>\n",
       "      <td>NaN</td>\n",
       "      <td>...</td>\n",
       "      <td>NaN</td>\n",
       "      <td>NaN</td>\n",
       "      <td>NaN</td>\n",
       "      <td>NaN</td>\n",
       "      <td>NaN</td>\n",
       "      <td>NaN</td>\n",
       "      <td>NaN</td>\n",
       "      <td>NaN</td>\n",
       "      <td>0.0</td>\n",
       "      <td>0.0</td>\n",
       "    </tr>\n",
       "  </tbody>\n",
       "</table>\n",
       "<p>5 rows × 23 columns</p>\n",
       "</div>"
      ],
      "text/plain": [
       "        序号      代码     名称  最新价  涨跌幅  涨跌额  成交量  成交额  振幅  最高  ...  量比  换手率  \\\n",
       "3312  3313  600752  *ST哈慈  NaN  NaN  NaN  NaN  NaN NaN NaN  ... NaN  NaN   \n",
       "3313  3314  600747   退市大控  NaN  NaN  NaN  NaN  NaN NaN NaN  ... NaN  NaN   \n",
       "3315  3316  600723   首商股份  NaN  NaN  NaN  NaN  NaN NaN NaN  ... NaN  NaN   \n",
       "3317  3318  600709   ST生态  NaN  NaN  NaN  NaN  NaN NaN NaN  ... NaN  NaN   \n",
       "3318  3319  600701   退市工新  NaN  NaN  NaN  NaN  NaN NaN NaN  ... NaN  NaN   \n",
       "\n",
       "      市盈率-动态  市净率  总市值  流通市值  涨速  5分钟涨跌  60日涨跌幅  年初至今涨跌幅  \n",
       "3312     NaN  NaN  NaN   NaN NaN    NaN     0.0      0.0  \n",
       "3313     NaN  NaN  NaN   NaN NaN    NaN     0.0      0.0  \n",
       "3315     NaN  NaN  NaN   NaN NaN    NaN     0.0      0.0  \n",
       "3317     NaN  NaN  NaN   NaN NaN    NaN     0.0      0.0  \n",
       "3318     NaN  NaN  NaN   NaN NaN    NaN     0.0      0.0  \n",
       "\n",
       "[5 rows x 23 columns]"
      ]
     },
     "execution_count": 5,
     "metadata": {},
     "output_type": "execute_result"
    }
   ],
   "source": [
    "stock_zh_a_spot_em_df.sort_values(by=\"成交额\",ascending=False).iloc[:4840].tail()"
   ]
  },
  {
   "cell_type": "code",
   "execution_count": null,
   "metadata": {},
   "outputs": [
    {
     "name": "stderr",
     "output_type": "stream",
     "text": [
      "  0%|          | 0/1 [00:00<?, ?it/s]D:\\GRC\\GitHub2\\Quantitative_Investment\\__pypackages__\\3.10\\lib\\akshare\\stock_feature\\stock_technology_ths.py:72: FutureWarning: The frame.append method is deprecated and will be removed from pandas in a future version. Use pandas.concat instead.\n",
      "  big_df = big_df.append(temp_df, ignore_index=True)\n",
      "                                             "
     ]
    },
    {
     "name": "stdout",
     "output_type": "stream",
     "text": [
      "    序号    股票代码  股票简称    涨跌幅    换手率     最新价    前期高点      前期高点日期\n",
      "0    1  000733  振华科技   5.19   1.57  133.59  127.00  2022-06-10\n",
      "1    2  001212  中旗新材   6.26  57.86   55.00   51.76  2022-06-16\n",
      "2    3  001270  铖昌科技  10.00   1.53   73.61   66.92  2022-06-16\n",
      "3    4  002068  黑猫股份   7.26   3.44   15.52   15.06  2022-06-14\n",
      "4    5  002125  湘潭电化  10.00   9.61   17.60   16.88  2022-06-14\n",
      "5    6  002824  和胜股份  10.00   8.02   57.30   52.09  2022-06-16\n",
      "6    7  002865  钧达股份   4.39   3.18  112.86  108.11  2022-06-16\n",
      "7    8  300179   四方达   0.38   5.47   15.95   15.89  2022-06-16\n",
      "8    9  300861  美畅股份   1.87   1.14   94.58   94.25  2022-06-14\n",
      "9   10  600481  双良节能   5.89   2.67   15.82   15.24  2015-06-18\n",
      "10  11  600522  中天科技   9.08   3.23   20.43   19.71  2022-03-01\n",
      "11  12  600732  爱旭股份   2.97   5.40   32.96   32.01  2022-06-16\n",
      "12  13  603605   珀莱雅   1.01   0.88  161.56  161.15  2022-06-07\n",
      "13  14  603606  东方电缆  10.01   3.13   65.95   60.96  2022-06-06\n",
      "14  15  603665   康隆达   4.48   1.14   55.08   52.75  2022-06-15\n",
      "15  16  603908   牧高笛   6.33   2.97  106.54  100.20  2022-06-16\n"
     ]
    },
    {
     "name": "stderr",
     "output_type": "stream",
     "text": [
      "\r"
     ]
    }
   ],
   "source": [
    "stock_rank_cxg_ths_df = ak.stock_rank_cxg_ths(symbol=\"历史新高\")\n",
    "print(stock_rank_cxg_ths_df)"
   ]
  },
  {
   "cell_type": "code",
   "execution_count": null,
   "metadata": {},
   "outputs": [
    {
     "name": "stderr",
     "output_type": "stream",
     "text": [
      "  0%|          | 0/1 [00:00<?, ?it/s]D:\\GRC\\GitHub2\\Quantitative_Investment\\__pypackages__\\3.10\\lib\\akshare\\stock_feature\\stock_technology_ths.py:125: FutureWarning: The frame.append method is deprecated and will be removed from pandas in a future version. Use pandas.concat instead.\n",
      "  big_df = big_df.append(temp_df, ignore_index=True)\n",
      "                                             "
     ]
    },
    {
     "name": "stdout",
     "output_type": "stream",
     "text": [
      "    序号    股票代码   股票简称   涨跌幅    换手率   最新价  前期低点      前期低点日期\n",
      "0    1  000038  *ST大通 -2.67   2.77  3.64  3.65  2022-06-14\n",
      "1    2  000889   ST中嘉 -2.08   1.91  1.88  1.89  2022-06-07\n",
      "2    3  000961   中南建设 -1.31   1.53  3.01  3.01  2022-06-13\n",
      "3    4  002177  *ST御银 -2.50   3.34  2.34  2.36  2022-06-14\n",
      "4    5  002313  *ST日海 -1.93   1.17  5.59  5.64  2022-06-15\n",
      "5    6  002316  *ST亚联 -2.08   3.63  2.35  2.39  2022-06-15\n",
      "6    7  002447    晨鑫退 -4.76   3.67  0.20  0.20  2022-06-08\n",
      "7    8  002699   ST美盛 -2.51  17.64  3.49  3.58  2022-06-16\n",
      "8    9  300178    腾邦退 -4.35   3.23  0.22  0.23  2022-06-16\n",
      "9   10  600090   退市济堂  0.00   1.96  0.31  0.31  2022-06-16\n",
      "10  11  600146   退市环球 -4.00   4.41  0.24  0.24  2022-06-14\n",
      "11  12  600221   ST海航 -0.62   0.15  1.59  1.59  2022-06-14\n",
      "12  13  600303   ST曙光  0.00   1.12  3.26  3.26  2022-06-16\n",
      "13  14  600518   ST康美 -0.41   0.25  2.42  2.42  2022-06-14\n",
      "14  15  600555   退市海创 -8.57   6.71  0.32  0.35  2022-06-16\n"
     ]
    },
    {
     "name": "stderr",
     "output_type": "stream",
     "text": [
      "\r"
     ]
    }
   ],
   "source": [
    "stock_rank_cxd_ths_df = ak.stock_rank_cxd_ths(symbol=\"一年新低\")\n",
    "print(stock_rank_cxd_ths_df)"
   ]
  },
  {
   "cell_type": "code",
   "execution_count": null,
   "metadata": {},
   "outputs": [
    {
     "name": "stderr",
     "output_type": "stream",
     "text": [
      "                                             \r"
     ]
    }
   ],
   "source": [
    "import akshare as ak\n",
    "stock_hsgt_hist_em_df1 = ak.stock_hsgt_hist_em(symbol=\"沪股通\") #北上\n",
    "stock_hsgt_hist_em_df2 = ak.stock_hsgt_hist_em(symbol=\"深股通\")"
   ]
  },
  {
   "cell_type": "code",
   "execution_count": null,
   "metadata": {},
   "outputs": [
    {
     "data": {
      "text/plain": [
       "'57.44北上'"
      ]
     },
     "execution_count": 30,
     "metadata": {},
     "output_type": "execute_result"
    }
   ],
   "source": [
    "str(stock_hsgt_hist_em_df1[\"当日成交净买额\"].iloc[0]) + \"北上\""
   ]
  },
  {
   "cell_type": "code",
   "execution_count": null,
   "metadata": {},
   "outputs": [
    {
     "data": {
      "text/plain": [
       "'振华科技 中旗新材 铖昌科技 黑猫股份 湘潭电化 和胜股份 钧达股份 四方达 美畅股份 双良节能 中天科技 爱旭股份 珀莱雅 东方电缆 康隆达 牧高笛'"
      ]
     },
     "execution_count": 34,
     "metadata": {},
     "output_type": "execute_result"
    }
   ],
   "source": [
    "\" \".join(list(stock_rank_cxg_ths_df[\"股票简称\"]))"
   ]
  },
  {
   "cell_type": "code",
   "execution_count": null,
   "metadata": {},
   "outputs": [
    {
     "name": "stdout",
     "output_type": "stream",
     "text": [
      "0.31439708259876115\n"
     ]
    }
   ],
   "source": [
    "import math\n",
    "stock_zh_a_spot_em_df = ak.stock_zh_a_spot_em()\n",
    "stock_zh_a_spot_em_df = stock_zh_a_spot_em_df.sort_values(by=\"涨跌幅\", ascending=False).dropna()\n",
    "N = stock_zh_a_spot_em_df.shape[0]\n",
    "half = math.floor(N / 2)\n",
    "first_sum = stock_zh_a_spot_em_df[\"成交额\"][:half].sum()\n",
    "second_sum = stock_zh_a_spot_em_df[\"成交额\"][half + 1 :].sum()\n",
    "ratio = (first_sum - second_sum) / stock_zh_a_spot_em_df[\"成交额\"].sum()\n",
    "print(ratio)"
   ]
  },
  {
   "cell_type": "code",
   "execution_count": null,
   "metadata": {},
   "outputs": [
    {
     "data": {
      "text/html": [
       "<div>\n",
       "<style scoped>\n",
       "    .dataframe tbody tr th:only-of-type {\n",
       "        vertical-align: middle;\n",
       "    }\n",
       "\n",
       "    .dataframe tbody tr th {\n",
       "        vertical-align: top;\n",
       "    }\n",
       "\n",
       "    .dataframe thead th {\n",
       "        text-align: right;\n",
       "    }\n",
       "</style>\n",
       "<table border=\"1\" class=\"dataframe\">\n",
       "  <thead>\n",
       "    <tr style=\"text-align: right;\">\n",
       "      <th></th>\n",
       "      <th>日期</th>\n",
       "      <th>当日成交净买额</th>\n",
       "      <th>买入成交额</th>\n",
       "      <th>卖出成交额</th>\n",
       "      <th>历史累计净买额</th>\n",
       "      <th>当日资金流入</th>\n",
       "      <th>当日余额</th>\n",
       "      <th>领涨股</th>\n",
       "      <th>领涨股涨跌幅</th>\n",
       "      <th>上证指数</th>\n",
       "      <th>涨跌幅</th>\n",
       "    </tr>\n",
       "  </thead>\n",
       "  <tbody>\n",
       "    <tr>\n",
       "      <th>0</th>\n",
       "      <td>2022-06-17</td>\n",
       "      <td>57.44</td>\n",
       "      <td>326.94</td>\n",
       "      <td>269.50</td>\n",
       "      <td>8882.4991</td>\n",
       "      <td>77.48</td>\n",
       "      <td>442.52</td>\n",
       "      <td>容百科技</td>\n",
       "      <td>11.89</td>\n",
       "      <td>3316.79</td>\n",
       "      <td>0.96</td>\n",
       "    </tr>\n",
       "    <tr>\n",
       "      <th>1</th>\n",
       "      <td>2022-06-16</td>\n",
       "      <td>32.54</td>\n",
       "      <td>274.56</td>\n",
       "      <td>242.02</td>\n",
       "      <td>8825.0533</td>\n",
       "      <td>45.43</td>\n",
       "      <td>474.57</td>\n",
       "      <td>新益昌</td>\n",
       "      <td>10.96</td>\n",
       "      <td>3285.38</td>\n",
       "      <td>-0.61</td>\n",
       "    </tr>\n",
       "    <tr>\n",
       "      <th>2</th>\n",
       "      <td>2022-06-15</td>\n",
       "      <td>77.60</td>\n",
       "      <td>362.49</td>\n",
       "      <td>284.89</td>\n",
       "      <td>8792.5153</td>\n",
       "      <td>91.57</td>\n",
       "      <td>428.43</td>\n",
       "      <td>博通集成</td>\n",
       "      <td>10.01</td>\n",
       "      <td>3305.41</td>\n",
       "      <td>0.50</td>\n",
       "    </tr>\n",
       "    <tr>\n",
       "      <th>3</th>\n",
       "      <td>2022-06-14</td>\n",
       "      <td>36.38</td>\n",
       "      <td>296.96</td>\n",
       "      <td>260.58</td>\n",
       "      <td>8714.9152</td>\n",
       "      <td>50.48</td>\n",
       "      <td>469.52</td>\n",
       "      <td>财达证券</td>\n",
       "      <td>10.06</td>\n",
       "      <td>3288.91</td>\n",
       "      <td>1.02</td>\n",
       "    </tr>\n",
       "    <tr>\n",
       "      <th>4</th>\n",
       "      <td>2022-06-13</td>\n",
       "      <td>-80.15</td>\n",
       "      <td>223.15</td>\n",
       "      <td>303.30</td>\n",
       "      <td>8678.5377</td>\n",
       "      <td>-67.52</td>\n",
       "      <td>587.52</td>\n",
       "      <td>岱美股份</td>\n",
       "      <td>10.04</td>\n",
       "      <td>3255.55</td>\n",
       "      <td>-0.89</td>\n",
       "    </tr>\n",
       "  </tbody>\n",
       "</table>\n",
       "</div>"
      ],
      "text/plain": [
       "           日期  当日成交净买额   买入成交额   卖出成交额    历史累计净买额  当日资金流入    当日余额   领涨股  \\\n",
       "0  2022-06-17    57.44  326.94  269.50  8882.4991   77.48  442.52  容百科技   \n",
       "1  2022-06-16    32.54  274.56  242.02  8825.0533   45.43  474.57   新益昌   \n",
       "2  2022-06-15    77.60  362.49  284.89  8792.5153   91.57  428.43  博通集成   \n",
       "3  2022-06-14    36.38  296.96  260.58  8714.9152   50.48  469.52  财达证券   \n",
       "4  2022-06-13   -80.15  223.15  303.30  8678.5377  -67.52  587.52  岱美股份   \n",
       "\n",
       "   领涨股涨跌幅     上证指数   涨跌幅  \n",
       "0   11.89  3316.79  0.96  \n",
       "1   10.96  3285.38 -0.61  \n",
       "2   10.01  3305.41  0.50  \n",
       "3   10.06  3288.91  1.02  \n",
       "4   10.04  3255.55 -0.89  "
      ]
     },
     "execution_count": 19,
     "metadata": {},
     "output_type": "execute_result"
    }
   ],
   "source": [
    "stock_hsgt_hist_em_df1.head()"
   ]
  },
  {
   "cell_type": "code",
   "execution_count": null,
   "metadata": {},
   "outputs": [
    {
     "data": {
      "text/html": [
       "<div>\n",
       "<style scoped>\n",
       "    .dataframe tbody tr th:only-of-type {\n",
       "        vertical-align: middle;\n",
       "    }\n",
       "\n",
       "    .dataframe tbody tr th {\n",
       "        vertical-align: top;\n",
       "    }\n",
       "\n",
       "    .dataframe thead th {\n",
       "        text-align: right;\n",
       "    }\n",
       "</style>\n",
       "<table border=\"1\" class=\"dataframe\">\n",
       "  <thead>\n",
       "    <tr style=\"text-align: right;\">\n",
       "      <th></th>\n",
       "      <th>日期</th>\n",
       "      <th>当日成交净买额</th>\n",
       "      <th>买入成交额</th>\n",
       "      <th>卖出成交额</th>\n",
       "      <th>历史累计净买额</th>\n",
       "      <th>当日资金流入</th>\n",
       "      <th>当日余额</th>\n",
       "      <th>领涨股</th>\n",
       "      <th>领涨股涨跌幅</th>\n",
       "      <th>深证指数</th>\n",
       "      <th>涨跌幅</th>\n",
       "    </tr>\n",
       "  </thead>\n",
       "  <tbody>\n",
       "    <tr>\n",
       "      <th>1274</th>\n",
       "      <td>2016-12-09</td>\n",
       "      <td>3.64</td>\n",
       "      <td>19.88</td>\n",
       "      <td>16.24</td>\n",
       "      <td>82.9274</td>\n",
       "      <td>4.23</td>\n",
       "      <td>125.77</td>\n",
       "      <td>世纪华通</td>\n",
       "      <td>6.72</td>\n",
       "      <td>10789.62</td>\n",
       "      <td>-0.21</td>\n",
       "    </tr>\n",
       "    <tr>\n",
       "      <th>1275</th>\n",
       "      <td>2016-12-08</td>\n",
       "      <td>16.77</td>\n",
       "      <td>18.10</td>\n",
       "      <td>1.33</td>\n",
       "      <td>79.2871</td>\n",
       "      <td>17.08</td>\n",
       "      <td>112.92</td>\n",
       "      <td>万里扬</td>\n",
       "      <td>10.00</td>\n",
       "      <td>10812.30</td>\n",
       "      <td>-0.40</td>\n",
       "    </tr>\n",
       "    <tr>\n",
       "      <th>1276</th>\n",
       "      <td>2016-12-07</td>\n",
       "      <td>17.25</td>\n",
       "      <td>18.09</td>\n",
       "      <td>0.84</td>\n",
       "      <td>62.5207</td>\n",
       "      <td>17.79</td>\n",
       "      <td>112.21</td>\n",
       "      <td>鞍钢股份</td>\n",
       "      <td>10.07</td>\n",
       "      <td>10855.72</td>\n",
       "      <td>0.70</td>\n",
       "    </tr>\n",
       "    <tr>\n",
       "      <th>1277</th>\n",
       "      <td>2016-12-06</td>\n",
       "      <td>18.58</td>\n",
       "      <td>20.33</td>\n",
       "      <td>1.75</td>\n",
       "      <td>45.2706</td>\n",
       "      <td>19.39</td>\n",
       "      <td>110.61</td>\n",
       "      <td>世纪华通</td>\n",
       "      <td>10.00</td>\n",
       "      <td>10779.76</td>\n",
       "      <td>-0.04</td>\n",
       "    </tr>\n",
       "    <tr>\n",
       "      <th>1278</th>\n",
       "      <td>2016-12-05</td>\n",
       "      <td>26.69</td>\n",
       "      <td>26.69</td>\n",
       "      <td>0.00</td>\n",
       "      <td>26.6928</td>\n",
       "      <td>27.11</td>\n",
       "      <td>102.89</td>\n",
       "      <td>世纪华通</td>\n",
       "      <td>7.44</td>\n",
       "      <td>10784.33</td>\n",
       "      <td>-1.18</td>\n",
       "    </tr>\n",
       "  </tbody>\n",
       "</table>\n",
       "</div>"
      ],
      "text/plain": [
       "              日期  当日成交净买额  买入成交额  卖出成交额  历史累计净买额  当日资金流入    当日余额   领涨股  \\\n",
       "1274  2016-12-09     3.64  19.88  16.24  82.9274    4.23  125.77  世纪华通   \n",
       "1275  2016-12-08    16.77  18.10   1.33  79.2871   17.08  112.92   万里扬   \n",
       "1276  2016-12-07    17.25  18.09   0.84  62.5207   17.79  112.21  鞍钢股份   \n",
       "1277  2016-12-06    18.58  20.33   1.75  45.2706   19.39  110.61  世纪华通   \n",
       "1278  2016-12-05    26.69  26.69   0.00  26.6928   27.11  102.89  世纪华通   \n",
       "\n",
       "      领涨股涨跌幅      深证指数   涨跌幅  \n",
       "1274    6.72  10789.62 -0.21  \n",
       "1275   10.00  10812.30 -0.40  \n",
       "1276   10.07  10855.72  0.70  \n",
       "1277   10.00  10779.76 -0.04  \n",
       "1278    7.44  10784.33 -1.18  "
      ]
     },
     "execution_count": 20,
     "metadata": {},
     "output_type": "execute_result"
    }
   ],
   "source": [
    "stock_hsgt_hist_em_df2.tail()"
   ]
  },
  {
   "cell_type": "code",
   "execution_count": null,
   "metadata": {},
   "outputs": [],
   "source": [
    "import datetime"
   ]
  },
  {
   "cell_type": "code",
   "execution_count": null,
   "metadata": {},
   "outputs": [],
   "source": [
    "t = datetime.date.today()\n",
    "y = t - datetime.timedelta(days=1)"
   ]
  },
  {
   "cell_type": "code",
   "execution_count": null,
   "metadata": {},
   "outputs": [
    {
     "name": "stdout",
     "output_type": "stream",
     "text": [
      "20220617\n",
      "20220616\n"
     ]
    }
   ],
   "source": [
    "today = t.strftime('%Y%m%d')\n",
    "yestoday = y.strftime('%Y%m%d')\n",
    "print(today)\n",
    "print(yestoday)"
   ]
  },
  {
   "cell_type": "code",
   "execution_count": null,
   "metadata": {},
   "outputs": [],
   "source": [
    "stock_margin_sse_df = ak.stock_margin_sse(start_date=yestoday, end_date=today)"
   ]
  },
  {
   "cell_type": "code",
   "execution_count": null,
   "metadata": {},
   "outputs": [],
   "source": [
    "stock_margin_sse_df = ak.stock_margin_sse(start_date=today, end_date=today)\n",
    "    \n",
    "stock_sse_summary_df = ak.stock_sse_summary()\n",
    "stock_szse_summary_df = ak.stock_szse_summary(date=today)\n",
    "    \n",
    "\n",
    "\n",
    "print(stock_sse_summary_df)\n",
    "print(stock_szse_summary_df)"
   ]
  },
  {
   "cell_type": "code",
   "execution_count": null,
   "metadata": {},
   "outputs": [],
   "source": [
    "import akshare as ak\n",
    "day = \"20220617\"\n",
    "stock_margin_sse_df = ak.stock_margin_sse(start_date=day, end_date=day)"
   ]
  },
  {
   "cell_type": "code",
   "execution_count": null,
   "metadata": {},
   "outputs": [
    {
     "name": "stdout",
     "output_type": "stream",
     "text": [
      "     信用交易日期          融资余额        融资买入额        融券余量       融券余量金额      融券卖出量  \\\n",
      "0  20220617  793940350029  42842107943  6912217032  55290070732  488522030   \n",
      "\n",
      "         融资融券余额  \n",
      "0  849230420761  \n"
     ]
    }
   ],
   "source": [
    "print(stock_margin_sse_df)"
   ]
  },
  {
   "cell_type": "code",
   "execution_count": null,
   "metadata": {},
   "outputs": [],
   "source": [
    "import akshare as ak\n",
    "sh_df = ak.stock_sh_a_spot_em()\n",
    "sz_df = ak.stock_sz_a_spot_em()\n",
    "b_df = ak.stock_zh_b_spot_em()"
   ]
  },
  {
   "cell_type": "code",
   "execution_count": null,
   "metadata": {},
   "outputs": [
    {
     "name": "stdout",
     "output_type": "stream",
     "text": [
      "(2177, 23)\n",
      "(2732, 23)\n",
      "(114, 23)\n"
     ]
    }
   ],
   "source": [
    "print(sh_df.shape)\n",
    "print(sz_df.shape)\n",
    "print(b_df.shape)"
   ]
  },
  {
   "cell_type": "code",
   "execution_count": null,
   "metadata": {},
   "outputs": [
    {
     "name": "stdout",
     "output_type": "stream",
     "text": [
      "      序号      代码    名称    最新价   涨跌幅    涨跌额       成交量         成交额    振幅     最高  \\\n",
      "109  110  900953   凯马Ｂ  0.359 -4.27 -0.016   23746.0    846591.0  8.53  0.378   \n",
      "110  111  900913  国新B股  0.388 -5.13 -0.021   24046.0    938401.0  7.09  0.409   \n",
      "111  112  900948  伊泰Ｂ股  1.570 -5.14 -0.085  115632.0  18199562.0  4.59  1.622   \n",
      "112  113  900936  鄂资Ｂ股  1.722 -5.23 -0.095   19278.0   3306993.0  6.66  1.801   \n",
      "113  114  900906  中毅达B  0.545 -7.31 -0.043  124483.0   6640369.0  5.10  0.559   \n",
      "\n",
      "     ...    量比   换手率  市盈率-动态    市净率           总市值          流通市值    涨速  5分钟涨跌  \\\n",
      "109  ...  0.85  0.99  225.61   2.39  2.297600e+08  8.616000e+07 -0.28  -0.28   \n",
      "110  ...  1.16  2.19    4.89   0.91  5.346617e+08  4.258275e+07  0.52   0.26   \n",
      "111  ...  1.37  0.87    2.47   0.73  5.108791e+09  2.084960e+09 -0.06  -0.13   \n",
      "112  ...  1.61  0.33    4.07   1.28  3.442495e+09  1.012536e+09  0.17  -0.06   \n",
      "113  ...  4.68  3.45   51.50  24.65  5.838447e+08  1.963962e+08  0.74   0.55   \n",
      "\n",
      "     60日涨跌幅  年初至今涨跌幅  \n",
      "109   13.25     5.90  \n",
      "110   22.01    13.45  \n",
      "111   64.05    79.84  \n",
      "112   34.01    37.10  \n",
      "113   18.48     7.92  \n",
      "\n",
      "[5 rows x 23 columns]\n"
     ]
    }
   ],
   "source": [
    "print(b_df.tail())"
   ]
  },
  {
   "cell_type": "code",
   "execution_count": null,
   "metadata": {},
   "outputs": [
    {
     "name": "stdout",
     "output_type": "stream",
     "text": [
      "(2083, 23)\n"
     ]
    }
   ],
   "source": [
    "print(sh_df.dropna().shape)"
   ]
  }
 ],
 "metadata": {
  "kernelspec": {
   "display_name": "Python 3.10.5 64-bit",
   "language": "python",
   "name": "python3"
  },
  "language_info": {
   "codemirror_mode": {
    "name": "ipython",
    "version": 3
   },
   "file_extension": ".py",
   "mimetype": "text/x-python",
   "name": "python",
   "nbconvert_exporter": "python",
   "pygments_lexer": "ipython3",
   "version": "3.10.5"
  },
  "orig_nbformat": 4,
  "vscode": {
   "interpreter": {
    "hash": "8036d4a22df4b328cea8d74886d17ef6db88ef52894febe8f911a56168059992"
   }
  }
 },
 "nbformat": 4,
 "nbformat_minor": 2
}
