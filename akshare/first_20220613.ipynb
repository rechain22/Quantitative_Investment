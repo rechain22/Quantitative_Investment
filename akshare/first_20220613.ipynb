{
 "cells": [
  {
   "cell_type": "code",
   "execution_count": 1,
   "metadata": {},
   "outputs": [
    {
     "name": "stdout",
     "output_type": "stream",
     "text": [
      "     信用交易日期          融资余额        融资买入额        融券余量       融券余量金额      融券卖出量  \\\n",
      "0  20210208  796355371775  33386752258  7346080807  87718590706  148374362   \n",
      "\n",
      "         融资融券余额  \n",
      "0  884073962481  \n"
     ]
    }
   ],
   "source": [
    "import akshare as ak\n",
    "stock_margin_sse_df = ak.stock_margin_sse(start_date=\"20210208\", end_date=\"20210208\")\n",
    "print(stock_margin_sse_df)"
   ]
  },
  {
   "cell_type": "code",
   "execution_count": 2,
   "metadata": {},
   "outputs": [
    {
     "data": {
      "text/html": [
       "<div>\n",
       "<style scoped>\n",
       "    .dataframe tbody tr th:only-of-type {\n",
       "        vertical-align: middle;\n",
       "    }\n",
       "\n",
       "    .dataframe tbody tr th {\n",
       "        vertical-align: top;\n",
       "    }\n",
       "\n",
       "    .dataframe thead th {\n",
       "        text-align: right;\n",
       "    }\n",
       "</style>\n",
       "<table border=\"1\" class=\"dataframe\">\n",
       "  <thead>\n",
       "    <tr style=\"text-align: right;\">\n",
       "      <th></th>\n",
       "      <th>信用交易日期</th>\n",
       "      <th>融资余额</th>\n",
       "      <th>融资买入额</th>\n",
       "      <th>融券余量</th>\n",
       "      <th>融券余量金额</th>\n",
       "      <th>融券卖出量</th>\n",
       "      <th>融资融券余额</th>\n",
       "    </tr>\n",
       "  </thead>\n",
       "  <tbody>\n",
       "    <tr>\n",
       "      <th>0</th>\n",
       "      <td>20210208</td>\n",
       "      <td>796355371775</td>\n",
       "      <td>33386752258</td>\n",
       "      <td>7346080807</td>\n",
       "      <td>87718590706</td>\n",
       "      <td>148374362</td>\n",
       "      <td>884073962481</td>\n",
       "    </tr>\n",
       "  </tbody>\n",
       "</table>\n",
       "</div>"
      ],
      "text/plain": [
       "     信用交易日期          融资余额        融资买入额        融券余量       融券余量金额      融券卖出量  \\\n",
       "0  20210208  796355371775  33386752258  7346080807  87718590706  148374362   \n",
       "\n",
       "         融资融券余额  \n",
       "0  884073962481  "
      ]
     },
     "execution_count": 2,
     "metadata": {},
     "output_type": "execute_result"
    }
   ],
   "source": [
    "stock_margin_sse_df.head()"
   ]
  },
  {
   "cell_type": "code",
   "execution_count": 3,
   "metadata": {},
   "outputs": [],
   "source": [
    "import numpy as np"
   ]
  },
  {
   "cell_type": "code",
   "execution_count": 4,
   "metadata": {},
   "outputs": [],
   "source": [
    "import pandas as pd\n",
    "index = pd.date_range('2020-1-10',periods=8)"
   ]
  },
  {
   "cell_type": "code",
   "execution_count": 6,
   "metadata": {},
   "outputs": [
    {
     "name": "stdout",
     "output_type": "stream",
     "text": [
      "            date  addTtmPe  middleAddTtmPe  addLyrPe  middleAddLyrPe  addPb  \\\n",
      "0     2005-04-08     14.98           20.65     15.68           21.17   2.01   \n",
      "1     2005-04-11     15.12           20.65     15.76           21.40   2.03   \n",
      "2     2005-04-12     14.75           20.30     15.21           20.85   1.99   \n",
      "3     2005-04-13     15.12           20.78     15.59           21.45   2.04   \n",
      "4     2005-04-14     14.99           20.56     15.42           21.14   2.02   \n",
      "...          ...       ...             ...       ...             ...    ...   \n",
      "4170  2022-06-07     10.90           20.00     11.14           20.84   1.32   \n",
      "4171  2022-06-08     11.01           20.06     11.25           20.92   1.33   \n",
      "4172  2022-06-09     10.94           19.77     11.18           20.55   1.33   \n",
      "4173  2022-06-10     11.09           20.36     11.33           20.75   1.35   \n",
      "4174  2022-06-13     10.96           20.10     11.20           20.68   1.33   \n",
      "\n",
      "      averageTtmPe  averageLyr  averagePb  middleAveragePb    close  \n",
      "0            30.39       33.19       2.12             1.92  1003.45  \n",
      "1            29.77       33.43       2.14             1.95   995.42  \n",
      "2            29.03       32.45       2.09             1.88   978.70  \n",
      "3            29.53       32.99       2.15             1.95  1000.90  \n",
      "4            28.95       32.23       2.11             1.93   986.98  \n",
      "...            ...         ...        ...              ...      ...  \n",
      "4170         31.58       30.71       4.02             2.53  4179.13  \n",
      "4171         31.84       30.92       4.06             2.56  4219.81  \n",
      "4172         31.24       30.34       3.98             2.52  4175.67  \n",
      "4173         31.82       30.86       4.04             2.55  4238.99  \n",
      "4174         31.60       30.60       4.02             2.55  4189.35  \n",
      "\n",
      "[4175 rows x 11 columns]\n"
     ]
    }
   ],
   "source": [
    "import akshare as ak\n",
    "\n",
    "stock_a_pe_and_pb_df = ak.stock_a_pe_and_pb(symbol=\"000300.SH\")\n",
    "print(stock_a_pe_and_pb_df)"
   ]
  },
  {
   "cell_type": "code",
   "execution_count": 30,
   "metadata": {},
   "outputs": [
    {
     "name": "stdout",
     "output_type": "stream",
     "text": [
      "date               2022-04-26\n",
      "addTtmPe                10.15\n",
      "middleAddTtmPe          18.41\n",
      "addLyrPe                 10.3\n",
      "middleAddLyrPe          17.88\n",
      "addPb                    1.26\n",
      "averageTtmPe            29.28\n",
      "averageLyr              28.52\n",
      "averagePb                3.34\n",
      "middleAveragePb          2.22\n",
      "close                 3784.12\n",
      "Name: 4144, dtype: object\n"
     ]
    }
   ],
   "source": [
    "end = stock_a_pe_and_pb_df.iloc[4144]\n",
    "print(end)"
   ]
  },
  {
   "cell_type": "code",
   "execution_count": 27,
   "metadata": {},
   "outputs": [],
   "source": [
    "start = stock_a_pe_and_pb_df.iloc[2928]"
   ]
  },
  {
   "cell_type": "code",
   "execution_count": 29,
   "metadata": {},
   "outputs": [
    {
     "data": {
      "text/plain": [
       "11.03"
      ]
     },
     "execution_count": 29,
     "metadata": {},
     "output_type": "execute_result"
    }
   ],
   "source": [
    "np.percentile(stock_a_pe_and_pb_df.iloc[2928:4144][\"addTtmPe\"],10)"
   ]
  },
  {
   "cell_type": "code",
   "execution_count": 31,
   "metadata": {},
   "outputs": [
    {
     "data": {
      "text/plain": [
       "1216"
      ]
     },
     "execution_count": 31,
     "metadata": {},
     "output_type": "execute_result"
    }
   ],
   "source": [
    "4144-2928"
   ]
  },
  {
   "cell_type": "code",
   "execution_count": 40,
   "metadata": {},
   "outputs": [],
   "source": [
    "arr = stock_a_pe_and_pb_df.iloc[4174-1215:4175]"
   ]
  },
  {
   "cell_type": "code",
   "execution_count": 43,
   "metadata": {},
   "outputs": [
    {
     "data": {
      "text/plain": [
       "11.47"
      ]
     },
     "execution_count": 43,
     "metadata": {},
     "output_type": "execute_result"
    }
   ],
   "source": [
    "np.percentile(arr[\"addTtmPe\"], 20)"
   ]
  }
 ],
 "metadata": {
  "kernelspec": {
   "display_name": "Python 3.10.5 64-bit",
   "language": "python",
   "name": "python3"
  },
  "language_info": {
   "codemirror_mode": {
    "name": "ipython",
    "version": 3
   },
   "file_extension": ".py",
   "mimetype": "text/x-python",
   "name": "python",
   "nbconvert_exporter": "python",
   "pygments_lexer": "ipython3",
   "version": "3.10.5"
  },
  "orig_nbformat": 4,
  "vscode": {
   "interpreter": {
    "hash": "8036d4a22df4b328cea8d74886d17ef6db88ef52894febe8f911a56168059992"
   }
  }
 },
 "nbformat": 4,
 "nbformat_minor": 2
}
