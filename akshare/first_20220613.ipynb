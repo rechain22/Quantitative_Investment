{
 "cells": [
  {
   "cell_type": "code",
   "execution_count": 34,
   "metadata": {},
   "outputs": [
    {
     "name": "stdout",
     "output_type": "stream",
     "text": [
      "       信用交易日期          融资余额        融资买入额        融券余量       融券余量金额      融券卖出量  \\\n",
      "0    20220616  795756728177  46332368237  6829715717  54303015634  513905855   \n",
      "1    20220615  793609922510  60233212499  6806672978  53630674633  536441330   \n",
      "2    20220614  790607292252  46309952318  6746225243  53645550512  516131314   \n",
      "3    20220613  788358540702  46456817098  6719466010  52968807177  358946148   \n",
      "4    20220610  782256232225  40644204686  6804798344  53407136031  433434045   \n",
      "..        ...           ...          ...         ...          ...        ...   \n",
      "320  20210219  802437603320  54940481670  7207830734  89502507162  232925268   \n",
      "321  20210218  798674299752  57592470219  7227617856  88984489407  203012743   \n",
      "322  20210210  787516930548  39732264789  7154213412  87009856851  162455427   \n",
      "323  20210209  796972031083  40412055719  7320527938  88627326311  187447390   \n",
      "324  20210208  796355371775  33386752258  7346080807  87718590706  148374362   \n",
      "\n",
      "           融资融券余额  \n",
      "0    850059743811  \n",
      "1    847240597143  \n",
      "2    844252842764  \n",
      "3    841327347879  \n",
      "4    835663368256  \n",
      "..            ...  \n",
      "320  891940110482  \n",
      "321  887658789159  \n",
      "322  874526787399  \n",
      "323  885599357394  \n",
      "324  884073962481  \n",
      "\n",
      "[325 rows x 7 columns]\n"
     ]
    }
   ],
   "source": [
    "import akshare as ak\n",
    "stock_margin_sse_df = ak.stock_margin_sse(start_date=\"20210208\", end_date=\"20220616\")\n",
    "print(stock_margin_sse_df)"
   ]
  },
  {
   "cell_type": "code",
   "execution_count": 33,
   "metadata": {},
   "outputs": [
    {
     "name": "stdout",
     "output_type": "stream",
     "text": [
      "        信用交易日期          融资余额        融资买入额        融券余量       融券余量金额      融券卖出量  \\\n",
      "0     20210208  796355371775  33386752258  7346080807  87718590706  148374362   \n",
      "1     20210205  798537947597  39256505179  7386121711  87230537840  169481352   \n",
      "2     20210204  802902827539  41486860920  7395161264  87780973049  164920794   \n",
      "3     20210203  807189978760  42621756166  7461530990  88548469683  251518719   \n",
      "4     20210202  807418158794  37533872673  7386440829  88303226275  230032183   \n",
      "...        ...           ...          ...         ...          ...        ...   \n",
      "1995  20121127   52059352556   1561381214   195318232   1384086520  255616186   \n",
      "1996  20121126   52224867623   1322180521   187498079   1366826765  234474541   \n",
      "1997  20121123   52163842479   1543727769   184949966   1347840020  257859771   \n",
      "1998  20121122   52326315202   1332145449   172773106   1302639373  214932697   \n",
      "1999  20121121   52338359165   1943146103   184856026   1306569346  308581665   \n",
      "\n",
      "            融资融券余额  \n",
      "0     884073962481  \n",
      "1     885768485437  \n",
      "2     890683800588  \n",
      "3     895738448443  \n",
      "4     895721385069  \n",
      "...            ...  \n",
      "1995   53443439076  \n",
      "1996   53591694388  \n",
      "1997   53511682499  \n",
      "1998   53628954575  \n",
      "1999   53644928511  \n",
      "\n",
      "[2000 rows x 7 columns]\n"
     ]
    }
   ],
   "source": [
    "stock_margin_sse_df = ak.stock_margin_sse()\n",
    "print(stock_margin_sse_df)"
   ]
  },
  {
   "cell_type": "code",
   "execution_count": 2,
   "metadata": {},
   "outputs": [
    {
     "data": {
      "text/html": [
       "<div>\n",
       "<style scoped>\n",
       "    .dataframe tbody tr th:only-of-type {\n",
       "        vertical-align: middle;\n",
       "    }\n",
       "\n",
       "    .dataframe tbody tr th {\n",
       "        vertical-align: top;\n",
       "    }\n",
       "\n",
       "    .dataframe thead th {\n",
       "        text-align: right;\n",
       "    }\n",
       "</style>\n",
       "<table border=\"1\" class=\"dataframe\">\n",
       "  <thead>\n",
       "    <tr style=\"text-align: right;\">\n",
       "      <th></th>\n",
       "      <th>信用交易日期</th>\n",
       "      <th>融资余额</th>\n",
       "      <th>融资买入额</th>\n",
       "      <th>融券余量</th>\n",
       "      <th>融券余量金额</th>\n",
       "      <th>融券卖出量</th>\n",
       "      <th>融资融券余额</th>\n",
       "    </tr>\n",
       "  </thead>\n",
       "  <tbody>\n",
       "    <tr>\n",
       "      <th>0</th>\n",
       "      <td>20210208</td>\n",
       "      <td>796355371775</td>\n",
       "      <td>33386752258</td>\n",
       "      <td>7346080807</td>\n",
       "      <td>87718590706</td>\n",
       "      <td>148374362</td>\n",
       "      <td>884073962481</td>\n",
       "    </tr>\n",
       "  </tbody>\n",
       "</table>\n",
       "</div>"
      ],
      "text/plain": [
       "     信用交易日期          融资余额        融资买入额        融券余量       融券余量金额      融券卖出量  \\\n",
       "0  20210208  796355371775  33386752258  7346080807  87718590706  148374362   \n",
       "\n",
       "         融资融券余额  \n",
       "0  884073962481  "
      ]
     },
     "execution_count": 2,
     "metadata": {},
     "output_type": "execute_result"
    }
   ],
   "source": [
    "stock_margin_sse_df.head()"
   ]
  },
  {
   "cell_type": "code",
   "execution_count": 3,
   "metadata": {},
   "outputs": [],
   "source": [
    "import numpy as np"
   ]
  },
  {
   "cell_type": "code",
   "execution_count": 4,
   "metadata": {},
   "outputs": [],
   "source": [
    "import pandas as pd\n",
    "index = pd.date_range('2020-1-10',periods=8)"
   ]
  },
  {
   "cell_type": "code",
   "execution_count": 5,
   "metadata": {},
   "outputs": [
    {
     "name": "stdout",
     "output_type": "stream",
     "text": [
      "            date  addTtmPe  middleAddTtmPe  addLyrPe  middleAddLyrPe  addPb  \\\n",
      "0     2005-04-08     14.98           20.65     15.68           21.17   2.01   \n",
      "1     2005-04-11     15.12           20.65     15.76           21.40   2.03   \n",
      "2     2005-04-12     14.75           20.30     15.21           20.85   1.99   \n",
      "3     2005-04-13     15.12           20.78     15.59           21.45   2.04   \n",
      "4     2005-04-14     14.99           20.56     15.42           21.14   2.02   \n",
      "...          ...       ...             ...       ...             ...    ...   \n",
      "4173  2022-06-10     11.09           20.36     11.33           20.75   1.35   \n",
      "4174  2022-06-13     10.96           20.10     11.20           20.68   1.33   \n",
      "4175  2022-06-14     11.09           20.56     11.34           21.36   1.35   \n",
      "4176  2022-06-15     11.23           21.24     11.48           21.58   1.37   \n",
      "4177  2022-06-16     11.12           21.04     11.36           21.30   1.35   \n",
      "\n",
      "      averageTtmPe  averageLyr  averagePb  middleAveragePb    close  \n",
      "0            30.39       33.19       2.12             1.92  1003.45  \n",
      "1            29.77       33.43       2.14             1.95   995.42  \n",
      "2            29.03       32.45       2.09             1.88   978.70  \n",
      "3            29.53       32.99       2.15             1.95  1000.90  \n",
      "4            28.95       32.23       2.11             1.93   986.98  \n",
      "...            ...         ...        ...              ...      ...  \n",
      "4173         31.82       30.86       4.04             2.55  4238.99  \n",
      "4174         31.60       30.60       4.02             2.55  4189.35  \n",
      "4175         31.73       30.76       4.04             2.54  4222.31  \n",
      "4176         32.02       31.00       4.09             2.56  4278.22  \n",
      "4177         32.02       31.05       4.20             2.59  4250.06  \n",
      "\n",
      "[4178 rows x 11 columns]\n"
     ]
    }
   ],
   "source": [
    "import akshare as ak\n",
    "\n",
    "stock_a_pe_and_pb_df = ak.stock_a_pe_and_pb(symbol=\"000300.SH\")\n",
    "print(stock_a_pe_and_pb_df)"
   ]
  },
  {
   "cell_type": "code",
   "execution_count": 6,
   "metadata": {},
   "outputs": [
    {
     "name": "stdout",
     "output_type": "stream",
     "text": [
      "date               2022-04-26\n",
      "addTtmPe                10.15\n",
      "middleAddTtmPe          18.41\n",
      "addLyrPe                 10.3\n",
      "middleAddLyrPe          17.88\n",
      "addPb                    1.26\n",
      "averageTtmPe            29.28\n",
      "averageLyr              28.52\n",
      "averagePb                3.34\n",
      "middleAveragePb          2.22\n",
      "close                 3784.12\n",
      "Name: 4144, dtype: object\n"
     ]
    }
   ],
   "source": [
    "end = stock_a_pe_and_pb_df.iloc[4144]\n",
    "print(end)"
   ]
  },
  {
   "cell_type": "code",
   "execution_count": 7,
   "metadata": {},
   "outputs": [],
   "source": [
    "start = stock_a_pe_and_pb_df.iloc[2928]"
   ]
  },
  {
   "cell_type": "code",
   "execution_count": 8,
   "metadata": {},
   "outputs": [
    {
     "data": {
      "text/plain": [
       "11.03"
      ]
     },
     "execution_count": 8,
     "metadata": {},
     "output_type": "execute_result"
    }
   ],
   "source": [
    "np.percentile(stock_a_pe_and_pb_df.iloc[2928:4144][\"addTtmPe\"],10)"
   ]
  },
  {
   "cell_type": "code",
   "execution_count": 9,
   "metadata": {},
   "outputs": [
    {
     "data": {
      "text/plain": [
       "1216"
      ]
     },
     "execution_count": 9,
     "metadata": {},
     "output_type": "execute_result"
    }
   ],
   "source": [
    "4144-2928"
   ]
  },
  {
   "cell_type": "code",
   "execution_count": 10,
   "metadata": {},
   "outputs": [],
   "source": [
    "arr = stock_a_pe_and_pb_df.iloc[4174-1215:4175]"
   ]
  },
  {
   "cell_type": "code",
   "execution_count": 11,
   "metadata": {},
   "outputs": [
    {
     "data": {
      "text/plain": [
       "11.47"
      ]
     },
     "execution_count": 11,
     "metadata": {},
     "output_type": "execute_result"
    }
   ],
   "source": [
    "np.percentile(arr[\"addTtmPe\"], 20)"
   ]
  },
  {
   "cell_type": "code",
   "execution_count": 25,
   "metadata": {},
   "outputs": [
    {
     "name": "stdout",
     "output_type": "stream",
     "text": [
      "        序号      代码    名称    最新价    涨跌幅    涨跌额        成交量           成交额     振幅  \\\n",
      "0        1  301238   N瑞泰  35.45  84.83  16.27   949400.0  3.202750e+09  30.08   \n",
      "1        2  301156   N美农  34.53  47.06  11.05   113039.0  4.164931e+08  19.08   \n",
      "2        3  300337  银邦股份   9.40  20.05   1.57   963948.0  8.802584e+08  15.45   \n",
      "3        4  300731  科创新源  20.08  20.02   3.35    69017.0  1.336863e+08  13.63   \n",
      "4        5  300660  江苏雷利  23.68  20.02   3.95   124089.0  2.738897e+08  21.59   \n",
      "...    ...     ...   ...    ...    ...    ...        ...           ...    ...   \n",
      "4995  4996  001914  招商积余  16.23  -7.63  -1.34   195765.0  3.174517e+08   4.95   \n",
      "4996  4997  003032  传智教育  16.25  -7.78  -1.37   203791.0  3.338836e+08   6.64   \n",
      "4997  4998  601788  光大证券  17.05  -7.79  -1.44  5325709.0  9.279285e+09   9.46   \n",
      "4998  4999  300338  ST开元   2.84  -7.79  -0.24   428229.0  1.235549e+08   6.17   \n",
      "4999  5000  600870  退市厦华   0.57  -8.06  -0.05   108691.0  6.364802e+06   9.68   \n",
      "\n",
      "         最高  ...    量比    换手率  市盈率-动态    市净率           总市值          流通市值  \\\n",
      "0     37.03  ...   NaN  65.58   22.58   4.18  2.599667e+10  5.132134e+09   \n",
      "1     39.00  ...   NaN  56.52   46.79   3.71  2.762400e+09  6.906000e+08   \n",
      "2      9.40  ...  3.72  13.58   47.65   7.95  7.726048e+09  6.673986e+09   \n",
      "3     20.08  ...  3.32   5.85  -56.25   4.35  2.511773e+09  2.370748e+09   \n",
      "4     23.68  ...  7.71   9.89   22.14   2.27  6.140847e+09  2.972117e+09   \n",
      "...     ...  ...   ...    ...     ...    ...           ...           ...   \n",
      "4995  16.68  ...  1.80   2.94   29.67   1.98  1.720942e+10  1.082313e+10   \n",
      "4996  17.03  ...  1.27  12.38   85.63   5.35  6.539772e+09  2.675735e+09   \n",
      "4997  18.49  ...  1.67  13.63   29.51   1.47  7.861393e+10  6.660922e+10   \n",
      "4998   3.00  ...  1.51  14.45   -4.82 -65.11  9.645199e+08  8.414157e+08   \n",
      "4999   0.62  ...  1.68   2.08   45.00  33.17  2.982238e+08  2.982238e+08   \n",
      "\n",
      "        涨速  5分钟涨跌  60日涨跌幅  年初至今涨跌幅  \n",
      "0     0.11   1.23   84.83    84.83  \n",
      "1     0.00  -0.12   47.06    47.06  \n",
      "2     0.00   0.00   47.10    18.39  \n",
      "3     0.00   0.00   -5.51   -44.99  \n",
      "4     0.00   0.00   13.63   -17.92  \n",
      "...    ...    ...     ...      ...  \n",
      "4995 -0.37  -0.12    8.49   -19.49  \n",
      "4996 -0.06  -0.06    8.84   -22.55  \n",
      "4997 -0.18   0.29   33.10    14.20  \n",
      "4998  0.00   0.35  -52.43   -57.86  \n",
      "4999  1.79   0.00  -87.22   -87.61  \n",
      "\n",
      "[5000 rows x 23 columns]\n"
     ]
    }
   ],
   "source": [
    "stock_zh_a_spot_em_df = ak.stock_zh_a_spot_em()\n",
    "print(stock_zh_a_spot_em_df)"
   ]
  },
  {
   "cell_type": "code",
   "execution_count": 32,
   "metadata": {},
   "outputs": [
    {
     "name": "stdout",
     "output_type": "stream",
     "text": [
      "   序号      代码    名称     最新价    涨跌幅    涨跌额       成交量          成交额     振幅  \\\n",
      "2   3  300337  银邦股份    9.40  20.05   1.57  963948.0  880258352.0  15.45   \n",
      "5   6  300602   飞荣达   14.51  20.02   2.42  283760.0  385128528.0  18.28   \n",
      "3   4  300731  科创新源   20.08  20.02   3.35   69017.0  133686289.0  13.63   \n",
      "4   5  300660  江苏雷利   23.68  20.02   3.95  124089.0  273889712.0  21.59   \n",
      "6   7  688155  先惠技术  110.40  20.00  18.40   32705.0  350722336.0  13.48   \n",
      "\n",
      "       最高  ...    量比    换手率  市盈率-动态   市净率           总市值          流通市值   涨速  \\\n",
      "2    9.40  ...  3.72  13.58   47.65  7.95  7.726048e+09  6.673986e+09  0.0   \n",
      "5   14.51  ...  3.12   9.12 -102.94  3.02  7.370238e+09  4.513148e+09  0.0   \n",
      "3   20.08  ...  3.32   5.85  -56.25  4.35  2.511773e+09  2.370748e+09  0.0   \n",
      "4   23.68  ...  7.71   9.89   22.14  2.27  6.140847e+09  2.972117e+09  0.0   \n",
      "6  110.40  ...  5.65  10.50  102.00  6.95  8.426626e+09  3.439171e+09  0.0   \n",
      "\n",
      "   5分钟涨跌  60日涨跌幅  年初至今涨跌幅  \n",
      "2    0.0   47.10    18.39  \n",
      "5    0.0   -7.17   -42.19  \n",
      "3    0.0   -5.51   -44.99  \n",
      "4    0.0   13.63   -17.92  \n",
      "6    0.0   -2.64    -3.16  \n",
      "\n",
      "[5 rows x 23 columns]\n"
     ]
    }
   ],
   "source": [
    "print(stock_zh_a_spot_em_df.sort_values(by=\"涨跌幅\",ascending=False).dropna().head())"
   ]
  },
  {
   "cell_type": "code",
   "execution_count": 13,
   "metadata": {},
   "outputs": [
    {
     "data": {
      "text/html": [
       "<div>\n",
       "<style scoped>\n",
       "    .dataframe tbody tr th:only-of-type {\n",
       "        vertical-align: middle;\n",
       "    }\n",
       "\n",
       "    .dataframe tbody tr th {\n",
       "        vertical-align: top;\n",
       "    }\n",
       "\n",
       "    .dataframe thead th {\n",
       "        text-align: right;\n",
       "    }\n",
       "</style>\n",
       "<table border=\"1\" class=\"dataframe\">\n",
       "  <thead>\n",
       "    <tr style=\"text-align: right;\">\n",
       "      <th></th>\n",
       "      <th>序号</th>\n",
       "      <th>代码</th>\n",
       "      <th>名称</th>\n",
       "      <th>最新价</th>\n",
       "      <th>涨跌幅</th>\n",
       "      <th>涨跌额</th>\n",
       "      <th>成交量</th>\n",
       "      <th>成交额</th>\n",
       "      <th>振幅</th>\n",
       "      <th>最高</th>\n",
       "      <th>...</th>\n",
       "      <th>量比</th>\n",
       "      <th>换手率</th>\n",
       "      <th>市盈率-动态</th>\n",
       "      <th>市净率</th>\n",
       "      <th>总市值</th>\n",
       "      <th>流通市值</th>\n",
       "      <th>涨速</th>\n",
       "      <th>5分钟涨跌</th>\n",
       "      <th>60日涨跌幅</th>\n",
       "      <th>年初至今涨跌幅</th>\n",
       "    </tr>\n",
       "  </thead>\n",
       "  <tbody>\n",
       "    <tr>\n",
       "      <th>2439</th>\n",
       "      <td>2440</td>\n",
       "      <td>600752</td>\n",
       "      <td>*ST哈慈</td>\n",
       "      <td>NaN</td>\n",
       "      <td>NaN</td>\n",
       "      <td>NaN</td>\n",
       "      <td>NaN</td>\n",
       "      <td>NaN</td>\n",
       "      <td>NaN</td>\n",
       "      <td>NaN</td>\n",
       "      <td>...</td>\n",
       "      <td>NaN</td>\n",
       "      <td>NaN</td>\n",
       "      <td>NaN</td>\n",
       "      <td>NaN</td>\n",
       "      <td>NaN</td>\n",
       "      <td>NaN</td>\n",
       "      <td>NaN</td>\n",
       "      <td>NaN</td>\n",
       "      <td>0.0</td>\n",
       "      <td>0.0</td>\n",
       "    </tr>\n",
       "    <tr>\n",
       "      <th>2440</th>\n",
       "      <td>2441</td>\n",
       "      <td>600747</td>\n",
       "      <td>退市大控</td>\n",
       "      <td>NaN</td>\n",
       "      <td>NaN</td>\n",
       "      <td>NaN</td>\n",
       "      <td>NaN</td>\n",
       "      <td>NaN</td>\n",
       "      <td>NaN</td>\n",
       "      <td>NaN</td>\n",
       "      <td>...</td>\n",
       "      <td>NaN</td>\n",
       "      <td>NaN</td>\n",
       "      <td>NaN</td>\n",
       "      <td>NaN</td>\n",
       "      <td>NaN</td>\n",
       "      <td>NaN</td>\n",
       "      <td>NaN</td>\n",
       "      <td>NaN</td>\n",
       "      <td>0.0</td>\n",
       "      <td>0.0</td>\n",
       "    </tr>\n",
       "    <tr>\n",
       "      <th>2441</th>\n",
       "      <td>2442</td>\n",
       "      <td>600723</td>\n",
       "      <td>首商股份</td>\n",
       "      <td>NaN</td>\n",
       "      <td>NaN</td>\n",
       "      <td>NaN</td>\n",
       "      <td>NaN</td>\n",
       "      <td>NaN</td>\n",
       "      <td>NaN</td>\n",
       "      <td>NaN</td>\n",
       "      <td>...</td>\n",
       "      <td>NaN</td>\n",
       "      <td>NaN</td>\n",
       "      <td>NaN</td>\n",
       "      <td>NaN</td>\n",
       "      <td>NaN</td>\n",
       "      <td>NaN</td>\n",
       "      <td>NaN</td>\n",
       "      <td>NaN</td>\n",
       "      <td>0.0</td>\n",
       "      <td>0.0</td>\n",
       "    </tr>\n",
       "    <tr>\n",
       "      <th>2442</th>\n",
       "      <td>2443</td>\n",
       "      <td>600709</td>\n",
       "      <td>ST生态</td>\n",
       "      <td>NaN</td>\n",
       "      <td>NaN</td>\n",
       "      <td>NaN</td>\n",
       "      <td>NaN</td>\n",
       "      <td>NaN</td>\n",
       "      <td>NaN</td>\n",
       "      <td>NaN</td>\n",
       "      <td>...</td>\n",
       "      <td>NaN</td>\n",
       "      <td>NaN</td>\n",
       "      <td>NaN</td>\n",
       "      <td>NaN</td>\n",
       "      <td>NaN</td>\n",
       "      <td>NaN</td>\n",
       "      <td>NaN</td>\n",
       "      <td>NaN</td>\n",
       "      <td>0.0</td>\n",
       "      <td>0.0</td>\n",
       "    </tr>\n",
       "    <tr>\n",
       "      <th>2443</th>\n",
       "      <td>2444</td>\n",
       "      <td>600701</td>\n",
       "      <td>退市工新</td>\n",
       "      <td>NaN</td>\n",
       "      <td>NaN</td>\n",
       "      <td>NaN</td>\n",
       "      <td>NaN</td>\n",
       "      <td>NaN</td>\n",
       "      <td>NaN</td>\n",
       "      <td>NaN</td>\n",
       "      <td>...</td>\n",
       "      <td>NaN</td>\n",
       "      <td>NaN</td>\n",
       "      <td>NaN</td>\n",
       "      <td>NaN</td>\n",
       "      <td>NaN</td>\n",
       "      <td>NaN</td>\n",
       "      <td>NaN</td>\n",
       "      <td>NaN</td>\n",
       "      <td>0.0</td>\n",
       "      <td>0.0</td>\n",
       "    </tr>\n",
       "  </tbody>\n",
       "</table>\n",
       "<p>5 rows × 23 columns</p>\n",
       "</div>"
      ],
      "text/plain": [
       "        序号      代码     名称  最新价  涨跌幅  涨跌额  成交量  成交额  振幅  最高  ...  量比  换手率  \\\n",
       "2439  2440  600752  *ST哈慈  NaN  NaN  NaN  NaN  NaN NaN NaN  ... NaN  NaN   \n",
       "2440  2441  600747   退市大控  NaN  NaN  NaN  NaN  NaN NaN NaN  ... NaN  NaN   \n",
       "2441  2442  600723   首商股份  NaN  NaN  NaN  NaN  NaN NaN NaN  ... NaN  NaN   \n",
       "2442  2443  600709   ST生态  NaN  NaN  NaN  NaN  NaN NaN NaN  ... NaN  NaN   \n",
       "2443  2444  600701   退市工新  NaN  NaN  NaN  NaN  NaN NaN NaN  ... NaN  NaN   \n",
       "\n",
       "      市盈率-动态  市净率  总市值  流通市值  涨速  5分钟涨跌  60日涨跌幅  年初至今涨跌幅  \n",
       "2439     NaN  NaN  NaN   NaN NaN    NaN     0.0      0.0  \n",
       "2440     NaN  NaN  NaN   NaN NaN    NaN     0.0      0.0  \n",
       "2441     NaN  NaN  NaN   NaN NaN    NaN     0.0      0.0  \n",
       "2442     NaN  NaN  NaN   NaN NaN    NaN     0.0      0.0  \n",
       "2443     NaN  NaN  NaN   NaN NaN    NaN     0.0      0.0  \n",
       "\n",
       "[5 rows x 23 columns]"
      ]
     },
     "execution_count": 13,
     "metadata": {},
     "output_type": "execute_result"
    }
   ],
   "source": [
    "stock_zh_a_spot_em_df.sort_values(by=\"成交额\",ascending=False).iloc[:4840].tail()"
   ]
  },
  {
   "cell_type": "code",
   "execution_count": 14,
   "metadata": {},
   "outputs": [
    {
     "name": "stderr",
     "output_type": "stream",
     "text": [
      "  0%|          | 0/1 [00:00<?, ?it/s]D:\\GRC\\GitHub2\\Quantitative_Investment\\__pypackages__\\3.10\\lib\\akshare\\stock_feature\\stock_technology_ths.py:72: FutureWarning: The frame.append method is deprecated and will be removed from pandas in a future version. Use pandas.concat instead.\n",
      "  big_df = big_df.append(temp_df, ignore_index=True)\n",
      "                                             "
     ]
    },
    {
     "name": "stdout",
     "output_type": "stream",
     "text": [
      "    序号    股票代码  股票简称    涨跌幅    换手率     最新价    前期高点      前期高点日期\n",
      "0    1  000733  振华科技   5.19   1.57  133.59  127.00  2022-06-10\n",
      "1    2  001212  中旗新材   6.26  57.86   55.00   51.76  2022-06-16\n",
      "2    3  001270  铖昌科技  10.00   1.53   73.61   66.92  2022-06-16\n",
      "3    4  002068  黑猫股份   7.26   3.44   15.52   15.06  2022-06-14\n",
      "4    5  002125  湘潭电化  10.00   9.61   17.60   16.88  2022-06-14\n",
      "5    6  002824  和胜股份  10.00   8.02   57.30   52.09  2022-06-16\n",
      "6    7  002865  钧达股份   4.39   3.18  112.86  108.11  2022-06-16\n",
      "7    8  300179   四方达   0.38   5.47   15.95   15.89  2022-06-16\n",
      "8    9  300861  美畅股份   1.87   1.14   94.58   94.25  2022-06-14\n",
      "9   10  600481  双良节能   5.89   2.67   15.82   15.24  2015-06-18\n",
      "10  11  600522  中天科技   9.08   3.23   20.43   19.71  2022-03-01\n",
      "11  12  600732  爱旭股份   2.97   5.40   32.96   32.01  2022-06-16\n",
      "12  13  603605   珀莱雅   1.01   0.88  161.56  161.15  2022-06-07\n",
      "13  14  603606  东方电缆  10.01   3.13   65.95   60.96  2022-06-06\n",
      "14  15  603665   康隆达   4.48   1.14   55.08   52.75  2022-06-15\n",
      "15  16  603908   牧高笛   6.33   2.97  106.54  100.20  2022-06-16\n"
     ]
    },
    {
     "name": "stderr",
     "output_type": "stream",
     "text": [
      "\r"
     ]
    }
   ],
   "source": [
    "stock_rank_cxg_ths_df = ak.stock_rank_cxg_ths(symbol=\"历史新高\")\n",
    "print(stock_rank_cxg_ths_df)"
   ]
  },
  {
   "cell_type": "code",
   "execution_count": 15,
   "metadata": {},
   "outputs": [
    {
     "name": "stderr",
     "output_type": "stream",
     "text": [
      "  0%|          | 0/1 [00:00<?, ?it/s]D:\\GRC\\GitHub2\\Quantitative_Investment\\__pypackages__\\3.10\\lib\\akshare\\stock_feature\\stock_technology_ths.py:125: FutureWarning: The frame.append method is deprecated and will be removed from pandas in a future version. Use pandas.concat instead.\n",
      "  big_df = big_df.append(temp_df, ignore_index=True)\n",
      "                                             "
     ]
    },
    {
     "name": "stdout",
     "output_type": "stream",
     "text": [
      "    序号    股票代码   股票简称   涨跌幅    换手率   最新价  前期低点      前期低点日期\n",
      "0    1  000038  *ST大通 -2.67   2.77  3.64  3.65  2022-06-14\n",
      "1    2  000889   ST中嘉 -2.08   1.91  1.88  1.89  2022-06-07\n",
      "2    3  000961   中南建设 -1.31   1.53  3.01  3.01  2022-06-13\n",
      "3    4  002177  *ST御银 -2.50   3.34  2.34  2.36  2022-06-14\n",
      "4    5  002313  *ST日海 -1.93   1.17  5.59  5.64  2022-06-15\n",
      "5    6  002316  *ST亚联 -2.08   3.63  2.35  2.39  2022-06-15\n",
      "6    7  002447    晨鑫退 -4.76   3.67  0.20  0.20  2022-06-08\n",
      "7    8  002699   ST美盛 -2.51  17.64  3.49  3.58  2022-06-16\n",
      "8    9  300178    腾邦退 -4.35   3.23  0.22  0.23  2022-06-16\n",
      "9   10  600090   退市济堂  0.00   1.96  0.31  0.31  2022-06-16\n",
      "10  11  600146   退市环球 -4.00   4.41  0.24  0.24  2022-06-14\n",
      "11  12  600221   ST海航 -0.62   0.15  1.59  1.59  2022-06-14\n",
      "12  13  600303   ST曙光  0.00   1.12  3.26  3.26  2022-06-16\n",
      "13  14  600518   ST康美 -0.41   0.25  2.42  2.42  2022-06-14\n",
      "14  15  600555   退市海创 -8.57   6.71  0.32  0.35  2022-06-16\n"
     ]
    },
    {
     "name": "stderr",
     "output_type": "stream",
     "text": [
      "\r"
     ]
    }
   ],
   "source": [
    "stock_rank_cxd_ths_df = ak.stock_rank_cxd_ths(symbol=\"一年新低\")\n",
    "print(stock_rank_cxd_ths_df)"
   ]
  },
  {
   "cell_type": "code",
   "execution_count": 16,
   "metadata": {},
   "outputs": [
    {
     "name": "stderr",
     "output_type": "stream",
     "text": [
      "                                             \r"
     ]
    }
   ],
   "source": [
    "stock_hsgt_hist_em_df1 = ak.stock_hsgt_hist_em(symbol=\"沪股通\") #北上\n",
    "stock_hsgt_hist_em_df2 = ak.stock_hsgt_hist_em(symbol=\"深股通\")"
   ]
  },
  {
   "cell_type": "code",
   "execution_count": 21,
   "metadata": {},
   "outputs": [
    {
     "data": {
      "text/html": [
       "<div>\n",
       "<style scoped>\n",
       "    .dataframe tbody tr th:only-of-type {\n",
       "        vertical-align: middle;\n",
       "    }\n",
       "\n",
       "    .dataframe tbody tr th {\n",
       "        vertical-align: top;\n",
       "    }\n",
       "\n",
       "    .dataframe thead th {\n",
       "        text-align: right;\n",
       "    }\n",
       "</style>\n",
       "<table border=\"1\" class=\"dataframe\">\n",
       "  <thead>\n",
       "    <tr style=\"text-align: right;\">\n",
       "      <th></th>\n",
       "      <th>日期</th>\n",
       "      <th>当日成交净买额</th>\n",
       "      <th>买入成交额</th>\n",
       "      <th>卖出成交额</th>\n",
       "      <th>历史累计净买额</th>\n",
       "      <th>当日资金流入</th>\n",
       "      <th>当日余额</th>\n",
       "      <th>领涨股</th>\n",
       "      <th>领涨股涨跌幅</th>\n",
       "      <th>上证指数</th>\n",
       "      <th>涨跌幅</th>\n",
       "    </tr>\n",
       "  </thead>\n",
       "  <tbody>\n",
       "    <tr>\n",
       "      <th>0</th>\n",
       "      <td>2022-06-16</td>\n",
       "      <td>32.54</td>\n",
       "      <td>274.56</td>\n",
       "      <td>242.02</td>\n",
       "      <td>8825.0533</td>\n",
       "      <td>45.43</td>\n",
       "      <td>474.57</td>\n",
       "      <td>新益昌</td>\n",
       "      <td>10.96</td>\n",
       "      <td>3285.38</td>\n",
       "      <td>-0.61</td>\n",
       "    </tr>\n",
       "    <tr>\n",
       "      <th>1</th>\n",
       "      <td>2022-06-15</td>\n",
       "      <td>77.60</td>\n",
       "      <td>362.49</td>\n",
       "      <td>284.89</td>\n",
       "      <td>8792.5153</td>\n",
       "      <td>91.57</td>\n",
       "      <td>428.43</td>\n",
       "      <td>博通集成</td>\n",
       "      <td>10.01</td>\n",
       "      <td>3305.41</td>\n",
       "      <td>0.50</td>\n",
       "    </tr>\n",
       "    <tr>\n",
       "      <th>2</th>\n",
       "      <td>2022-06-14</td>\n",
       "      <td>36.38</td>\n",
       "      <td>296.96</td>\n",
       "      <td>260.58</td>\n",
       "      <td>8714.9152</td>\n",
       "      <td>50.48</td>\n",
       "      <td>469.52</td>\n",
       "      <td>财达证券</td>\n",
       "      <td>10.06</td>\n",
       "      <td>3288.91</td>\n",
       "      <td>1.02</td>\n",
       "    </tr>\n",
       "    <tr>\n",
       "      <th>3</th>\n",
       "      <td>2022-06-13</td>\n",
       "      <td>-80.15</td>\n",
       "      <td>223.15</td>\n",
       "      <td>303.30</td>\n",
       "      <td>8678.5377</td>\n",
       "      <td>-67.52</td>\n",
       "      <td>587.52</td>\n",
       "      <td>岱美股份</td>\n",
       "      <td>10.04</td>\n",
       "      <td>3255.55</td>\n",
       "      <td>-0.89</td>\n",
       "    </tr>\n",
       "    <tr>\n",
       "      <th>4</th>\n",
       "      <td>2022-06-10</td>\n",
       "      <td>85.45</td>\n",
       "      <td>410.13</td>\n",
       "      <td>324.68</td>\n",
       "      <td>8758.6855</td>\n",
       "      <td>121.20</td>\n",
       "      <td>398.80</td>\n",
       "      <td>海兴电力</td>\n",
       "      <td>10.03</td>\n",
       "      <td>3284.83</td>\n",
       "      <td>1.42</td>\n",
       "    </tr>\n",
       "  </tbody>\n",
       "</table>\n",
       "</div>"
      ],
      "text/plain": [
       "           日期  当日成交净买额   买入成交额   卖出成交额    历史累计净买额  当日资金流入    当日余额   领涨股  \\\n",
       "0  2022-06-16    32.54  274.56  242.02  8825.0533   45.43  474.57   新益昌   \n",
       "1  2022-06-15    77.60  362.49  284.89  8792.5153   91.57  428.43  博通集成   \n",
       "2  2022-06-14    36.38  296.96  260.58  8714.9152   50.48  469.52  财达证券   \n",
       "3  2022-06-13   -80.15  223.15  303.30  8678.5377  -67.52  587.52  岱美股份   \n",
       "4  2022-06-10    85.45  410.13  324.68  8758.6855  121.20  398.80  海兴电力   \n",
       "\n",
       "   领涨股涨跌幅     上证指数   涨跌幅  \n",
       "0   10.96  3285.38 -0.61  \n",
       "1   10.01  3305.41  0.50  \n",
       "2   10.06  3288.91  1.02  \n",
       "3   10.04  3255.55 -0.89  \n",
       "4   10.03  3284.83  1.42  "
      ]
     },
     "execution_count": 21,
     "metadata": {},
     "output_type": "execute_result"
    }
   ],
   "source": [
    "stock_hsgt_hist_em_df1.head()"
   ]
  },
  {
   "cell_type": "code",
   "execution_count": 23,
   "metadata": {},
   "outputs": [
    {
     "data": {
      "text/html": [
       "<div>\n",
       "<style scoped>\n",
       "    .dataframe tbody tr th:only-of-type {\n",
       "        vertical-align: middle;\n",
       "    }\n",
       "\n",
       "    .dataframe tbody tr th {\n",
       "        vertical-align: top;\n",
       "    }\n",
       "\n",
       "    .dataframe thead th {\n",
       "        text-align: right;\n",
       "    }\n",
       "</style>\n",
       "<table border=\"1\" class=\"dataframe\">\n",
       "  <thead>\n",
       "    <tr style=\"text-align: right;\">\n",
       "      <th></th>\n",
       "      <th>日期</th>\n",
       "      <th>当日成交净买额</th>\n",
       "      <th>买入成交额</th>\n",
       "      <th>卖出成交额</th>\n",
       "      <th>历史累计净买额</th>\n",
       "      <th>当日资金流入</th>\n",
       "      <th>当日余额</th>\n",
       "      <th>领涨股</th>\n",
       "      <th>领涨股涨跌幅</th>\n",
       "      <th>深证指数</th>\n",
       "      <th>涨跌幅</th>\n",
       "    </tr>\n",
       "  </thead>\n",
       "  <tbody>\n",
       "    <tr>\n",
       "      <th>1273</th>\n",
       "      <td>2016-12-09</td>\n",
       "      <td>3.64</td>\n",
       "      <td>19.88</td>\n",
       "      <td>16.24</td>\n",
       "      <td>82.9274</td>\n",
       "      <td>4.23</td>\n",
       "      <td>125.77</td>\n",
       "      <td>世纪华通</td>\n",
       "      <td>6.72</td>\n",
       "      <td>10789.62</td>\n",
       "      <td>-0.21</td>\n",
       "    </tr>\n",
       "    <tr>\n",
       "      <th>1274</th>\n",
       "      <td>2016-12-08</td>\n",
       "      <td>16.77</td>\n",
       "      <td>18.10</td>\n",
       "      <td>1.33</td>\n",
       "      <td>79.2871</td>\n",
       "      <td>17.08</td>\n",
       "      <td>112.92</td>\n",
       "      <td>万里扬</td>\n",
       "      <td>10.00</td>\n",
       "      <td>10812.30</td>\n",
       "      <td>-0.40</td>\n",
       "    </tr>\n",
       "    <tr>\n",
       "      <th>1275</th>\n",
       "      <td>2016-12-07</td>\n",
       "      <td>17.25</td>\n",
       "      <td>18.09</td>\n",
       "      <td>0.84</td>\n",
       "      <td>62.5207</td>\n",
       "      <td>17.79</td>\n",
       "      <td>112.21</td>\n",
       "      <td>鞍钢股份</td>\n",
       "      <td>10.07</td>\n",
       "      <td>10855.72</td>\n",
       "      <td>0.70</td>\n",
       "    </tr>\n",
       "    <tr>\n",
       "      <th>1276</th>\n",
       "      <td>2016-12-06</td>\n",
       "      <td>18.58</td>\n",
       "      <td>20.33</td>\n",
       "      <td>1.75</td>\n",
       "      <td>45.2706</td>\n",
       "      <td>19.39</td>\n",
       "      <td>110.61</td>\n",
       "      <td>世纪华通</td>\n",
       "      <td>10.00</td>\n",
       "      <td>10779.76</td>\n",
       "      <td>-0.04</td>\n",
       "    </tr>\n",
       "    <tr>\n",
       "      <th>1277</th>\n",
       "      <td>2016-12-05</td>\n",
       "      <td>26.69</td>\n",
       "      <td>26.69</td>\n",
       "      <td>0.00</td>\n",
       "      <td>26.6928</td>\n",
       "      <td>27.11</td>\n",
       "      <td>102.89</td>\n",
       "      <td>世纪华通</td>\n",
       "      <td>7.44</td>\n",
       "      <td>10784.33</td>\n",
       "      <td>-1.18</td>\n",
       "    </tr>\n",
       "  </tbody>\n",
       "</table>\n",
       "</div>"
      ],
      "text/plain": [
       "              日期  当日成交净买额  买入成交额  卖出成交额  历史累计净买额  当日资金流入    当日余额   领涨股  \\\n",
       "1273  2016-12-09     3.64  19.88  16.24  82.9274    4.23  125.77  世纪华通   \n",
       "1274  2016-12-08    16.77  18.10   1.33  79.2871   17.08  112.92   万里扬   \n",
       "1275  2016-12-07    17.25  18.09   0.84  62.5207   17.79  112.21  鞍钢股份   \n",
       "1276  2016-12-06    18.58  20.33   1.75  45.2706   19.39  110.61  世纪华通   \n",
       "1277  2016-12-05    26.69  26.69   0.00  26.6928   27.11  102.89  世纪华通   \n",
       "\n",
       "      领涨股涨跌幅      深证指数   涨跌幅  \n",
       "1273    6.72  10789.62 -0.21  \n",
       "1274   10.00  10812.30 -0.40  \n",
       "1275   10.07  10855.72  0.70  \n",
       "1276   10.00  10779.76 -0.04  \n",
       "1277    7.44  10784.33 -1.18  "
      ]
     },
     "execution_count": 23,
     "metadata": {},
     "output_type": "execute_result"
    }
   ],
   "source": [
    "stock_hsgt_hist_em_df2.tail()"
   ]
  },
  {
   "cell_type": "code",
   "execution_count": 35,
   "metadata": {},
   "outputs": [],
   "source": [
    "import datetime"
   ]
  },
  {
   "cell_type": "code",
   "execution_count": 54,
   "metadata": {},
   "outputs": [],
   "source": [
    "t = datetime.date.today()\n",
    "y = t - datetime.timedelta(days=1)"
   ]
  },
  {
   "cell_type": "code",
   "execution_count": 55,
   "metadata": {},
   "outputs": [
    {
     "name": "stdout",
     "output_type": "stream",
     "text": [
      "20220617\n",
      "20220616\n"
     ]
    }
   ],
   "source": [
    "today = t.strftime('%Y%m%d')\n",
    "yestoday = y.strftime('%Y%m%d')\n",
    "print(today)\n",
    "print(yestoday)"
   ]
  },
  {
   "cell_type": "code",
   "execution_count": 56,
   "metadata": {},
   "outputs": [],
   "source": [
    "stock_margin_sse_df = ak.stock_margin_sse(start_date=yestoday, end_date=today)"
   ]
  },
  {
   "cell_type": "code",
   "execution_count": 60,
   "metadata": {},
   "outputs": [
    {
     "ename": "ValueError",
     "evalue": "Length mismatch: Expected axis has 0 elements, new values have 13 elements",
     "output_type": "error",
     "traceback": [
      "\u001b[1;31m---------------------------------------------------------------------------\u001b[0m",
      "\u001b[1;31mValueError\u001b[0m                                Traceback (most recent call last)",
      "\u001b[1;32md:\\GRC\\GitHub2\\Quantitative_Investment\\akshare\\first_20220613.ipynb Cell 25'\u001b[0m in \u001b[0;36m<cell line: 1>\u001b[1;34m()\u001b[0m\n\u001b[1;32m----> <a href='vscode-notebook-cell:/d%3A/GRC/GitHub2/Quantitative_Investment/akshare/first_20220613.ipynb#ch0000027?line=0'>1</a>\u001b[0m stock_margin_sse_df \u001b[39m=\u001b[39m ak\u001b[39m.\u001b[39;49mstock_margin_sse(start_date\u001b[39m=\u001b[39;49mtoday, end_date\u001b[39m=\u001b[39;49mtoday)\n\u001b[0;32m      <a href='vscode-notebook-cell:/d%3A/GRC/GitHub2/Quantitative_Investment/akshare/first_20220613.ipynb#ch0000027?line=2'>3</a>\u001b[0m stock_sse_summary_df \u001b[39m=\u001b[39m ak\u001b[39m.\u001b[39mstock_sse_summary()\n\u001b[0;32m      <a href='vscode-notebook-cell:/d%3A/GRC/GitHub2/Quantitative_Investment/akshare/first_20220613.ipynb#ch0000027?line=3'>4</a>\u001b[0m stock_szse_summary_df \u001b[39m=\u001b[39m ak\u001b[39m.\u001b[39mstock_szse_summary(date\u001b[39m=\u001b[39mtoday)\n",
      "File \u001b[1;32mD:\\GRC\\GitHub2\\Quantitative_Investment\\__pypackages__\\3.10\\lib\\akshare\\stock_feature\\stock_sse_margin.py:46\u001b[0m, in \u001b[0;36mstock_margin_sse\u001b[1;34m(start_date, end_date)\u001b[0m\n\u001b[0;32m     44\u001b[0m data_json \u001b[39m=\u001b[39m r\u001b[39m.\u001b[39mjson()\n\u001b[0;32m     45\u001b[0m temp_df \u001b[39m=\u001b[39m pd\u001b[39m.\u001b[39mDataFrame(data_json[\u001b[39m\"\u001b[39m\u001b[39mresult\u001b[39m\u001b[39m\"\u001b[39m])\n\u001b[1;32m---> 46\u001b[0m temp_df\u001b[39m.\u001b[39mcolumns \u001b[39m=\u001b[39m [\n\u001b[0;32m     47\u001b[0m     \u001b[39m\"\u001b[39m\u001b[39m_\u001b[39m\u001b[39m\"\u001b[39m,\n\u001b[0;32m     48\u001b[0m     \u001b[39m\"\u001b[39m\u001b[39m信用交易日期\u001b[39m\u001b[39m\"\u001b[39m,\n\u001b[0;32m     49\u001b[0m     \u001b[39m\"\u001b[39m\u001b[39m_\u001b[39m\u001b[39m\"\u001b[39m,\n\u001b[0;32m     50\u001b[0m     \u001b[39m\"\u001b[39m\u001b[39m融券卖出量\u001b[39m\u001b[39m\"\u001b[39m,\n\u001b[0;32m     51\u001b[0m     \u001b[39m\"\u001b[39m\u001b[39m融券余量\u001b[39m\u001b[39m\"\u001b[39m,\n\u001b[0;32m     52\u001b[0m     \u001b[39m\"\u001b[39m\u001b[39m融券余量金额\u001b[39m\u001b[39m\"\u001b[39m,\n\u001b[0;32m     53\u001b[0m     \u001b[39m\"\u001b[39m\u001b[39m_\u001b[39m\u001b[39m\"\u001b[39m,\n\u001b[0;32m     54\u001b[0m     \u001b[39m\"\u001b[39m\u001b[39m_\u001b[39m\u001b[39m\"\u001b[39m,\n\u001b[0;32m     55\u001b[0m     \u001b[39m\"\u001b[39m\u001b[39m融资买入额\u001b[39m\u001b[39m\"\u001b[39m,\n\u001b[0;32m     56\u001b[0m     \u001b[39m\"\u001b[39m\u001b[39m融资融券余额\u001b[39m\u001b[39m\"\u001b[39m,\n\u001b[0;32m     57\u001b[0m     \u001b[39m\"\u001b[39m\u001b[39m融资余额\u001b[39m\u001b[39m\"\u001b[39m,\n\u001b[0;32m     58\u001b[0m     \u001b[39m\"\u001b[39m\u001b[39m_\u001b[39m\u001b[39m\"\u001b[39m,\n\u001b[0;32m     59\u001b[0m     \u001b[39m\"\u001b[39m\u001b[39m_\u001b[39m\u001b[39m\"\u001b[39m,\n\u001b[0;32m     60\u001b[0m ]\n\u001b[0;32m     61\u001b[0m temp_df \u001b[39m=\u001b[39m temp_df[\n\u001b[0;32m     62\u001b[0m     [\n\u001b[0;32m     63\u001b[0m         \u001b[39m\"\u001b[39m\u001b[39m信用交易日期\u001b[39m\u001b[39m\"\u001b[39m,\n\u001b[1;32m   (...)\u001b[0m\n\u001b[0;32m     70\u001b[0m     ]\n\u001b[0;32m     71\u001b[0m ]\n\u001b[0;32m     72\u001b[0m \u001b[39mreturn\u001b[39;00m temp_df\n",
      "File \u001b[1;32mD:\\GRC\\GitHub2\\Quantitative_Investment\\__pypackages__\\3.10\\lib\\pandas\\core\\generic.py:5588\u001b[0m, in \u001b[0;36mNDFrame.__setattr__\u001b[1;34m(self, name, value)\u001b[0m\n\u001b[0;32m   5586\u001b[0m \u001b[39mtry\u001b[39;00m:\n\u001b[0;32m   5587\u001b[0m     \u001b[39mobject\u001b[39m\u001b[39m.\u001b[39m\u001b[39m__getattribute__\u001b[39m(\u001b[39mself\u001b[39m, name)\n\u001b[1;32m-> 5588\u001b[0m     \u001b[39mreturn\u001b[39;00m \u001b[39mobject\u001b[39;49m\u001b[39m.\u001b[39;49m\u001b[39m__setattr__\u001b[39;49m(\u001b[39mself\u001b[39;49m, name, value)\n\u001b[0;32m   5589\u001b[0m \u001b[39mexcept\u001b[39;00m \u001b[39mAttributeError\u001b[39;00m:\n\u001b[0;32m   5590\u001b[0m     \u001b[39mpass\u001b[39;00m\n",
      "File \u001b[1;32mD:\\GRC\\GitHub2\\Quantitative_Investment\\__pypackages__\\3.10\\lib\\pandas\\_libs\\properties.pyx:70\u001b[0m, in \u001b[0;36mpandas._libs.properties.AxisProperty.__set__\u001b[1;34m()\u001b[0m\n",
      "File \u001b[1;32mD:\\GRC\\GitHub2\\Quantitative_Investment\\__pypackages__\\3.10\\lib\\pandas\\core\\generic.py:769\u001b[0m, in \u001b[0;36mNDFrame._set_axis\u001b[1;34m(self, axis, labels)\u001b[0m\n\u001b[0;32m    767\u001b[0m \u001b[39mdef\u001b[39;00m \u001b[39m_set_axis\u001b[39m(\u001b[39mself\u001b[39m, axis: \u001b[39mint\u001b[39m, labels: Index) \u001b[39m-\u001b[39m\u001b[39m>\u001b[39m \u001b[39mNone\u001b[39;00m:\n\u001b[0;32m    768\u001b[0m     labels \u001b[39m=\u001b[39m ensure_index(labels)\n\u001b[1;32m--> 769\u001b[0m     \u001b[39mself\u001b[39;49m\u001b[39m.\u001b[39;49m_mgr\u001b[39m.\u001b[39;49mset_axis(axis, labels)\n\u001b[0;32m    770\u001b[0m     \u001b[39mself\u001b[39m\u001b[39m.\u001b[39m_clear_item_cache()\n",
      "File \u001b[1;32mD:\\GRC\\GitHub2\\Quantitative_Investment\\__pypackages__\\3.10\\lib\\pandas\\core\\internals\\managers.py:214\u001b[0m, in \u001b[0;36mBaseBlockManager.set_axis\u001b[1;34m(self, axis, new_labels)\u001b[0m\n\u001b[0;32m    212\u001b[0m \u001b[39mdef\u001b[39;00m \u001b[39mset_axis\u001b[39m(\u001b[39mself\u001b[39m, axis: \u001b[39mint\u001b[39m, new_labels: Index) \u001b[39m-\u001b[39m\u001b[39m>\u001b[39m \u001b[39mNone\u001b[39;00m:\n\u001b[0;32m    213\u001b[0m     \u001b[39m# Caller is responsible for ensuring we have an Index object.\u001b[39;00m\n\u001b[1;32m--> 214\u001b[0m     \u001b[39mself\u001b[39;49m\u001b[39m.\u001b[39;49m_validate_set_axis(axis, new_labels)\n\u001b[0;32m    215\u001b[0m     \u001b[39mself\u001b[39m\u001b[39m.\u001b[39maxes[axis] \u001b[39m=\u001b[39m new_labels\n",
      "File \u001b[1;32mD:\\GRC\\GitHub2\\Quantitative_Investment\\__pypackages__\\3.10\\lib\\pandas\\core\\internals\\base.py:69\u001b[0m, in \u001b[0;36mDataManager._validate_set_axis\u001b[1;34m(self, axis, new_labels)\u001b[0m\n\u001b[0;32m     66\u001b[0m     \u001b[39mpass\u001b[39;00m\n\u001b[0;32m     68\u001b[0m \u001b[39melif\u001b[39;00m new_len \u001b[39m!=\u001b[39m old_len:\n\u001b[1;32m---> 69\u001b[0m     \u001b[39mraise\u001b[39;00m \u001b[39mValueError\u001b[39;00m(\n\u001b[0;32m     70\u001b[0m         \u001b[39mf\u001b[39m\u001b[39m\"\u001b[39m\u001b[39mLength mismatch: Expected axis has \u001b[39m\u001b[39m{\u001b[39;00mold_len\u001b[39m}\u001b[39;00m\u001b[39m elements, new \u001b[39m\u001b[39m\"\u001b[39m\n\u001b[0;32m     71\u001b[0m         \u001b[39mf\u001b[39m\u001b[39m\"\u001b[39m\u001b[39mvalues have \u001b[39m\u001b[39m{\u001b[39;00mnew_len\u001b[39m}\u001b[39;00m\u001b[39m elements\u001b[39m\u001b[39m\"\u001b[39m\n\u001b[0;32m     72\u001b[0m     )\n",
      "\u001b[1;31mValueError\u001b[0m: Length mismatch: Expected axis has 0 elements, new values have 13 elements"
     ]
    }
   ],
   "source": [
    "stock_margin_sse_df = ak.stock_margin_sse(start_date=today, end_date=today)\n",
    "    \n",
    "stock_sse_summary_df = ak.stock_sse_summary()\n",
    "stock_szse_summary_df = ak.stock_szse_summary(date=today)\n",
    "    \n",
    "\n",
    "\n",
    "print(stock_sse_summary_df)\n",
    "print(stock_szse_summary_df)"
   ]
  },
  {
   "cell_type": "code",
   "execution_count": null,
   "metadata": {},
   "outputs": [],
   "source": []
  }
 ],
 "metadata": {
  "kernelspec": {
   "display_name": "Python 3.10.5 64-bit",
   "language": "python",
   "name": "python3"
  },
  "language_info": {
   "codemirror_mode": {
    "name": "ipython",
    "version": 3
   },
   "file_extension": ".py",
   "mimetype": "text/x-python",
   "name": "python",
   "nbconvert_exporter": "python",
   "pygments_lexer": "ipython3",
   "version": "3.10.5"
  },
  "orig_nbformat": 4,
  "vscode": {
   "interpreter": {
    "hash": "8036d4a22df4b328cea8d74886d17ef6db88ef52894febe8f911a56168059992"
   }
  }
 },
 "nbformat": 4,
 "nbformat_minor": 2
}
